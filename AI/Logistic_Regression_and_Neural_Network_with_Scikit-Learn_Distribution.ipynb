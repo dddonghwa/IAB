{
 "cells": [
  {
   "cell_type": "markdown",
   "metadata": {
    "id": "qnKXszGIuTo7"
   },
   "source": [
    "# IoT·인공지능·빅데이터 개론 및 실습 (2021년도, 2학기, M2177.004900_001)\n"
   ]
  },
  {
   "cell_type": "markdown",
   "metadata": {
    "id": "KubnO2egumeN"
   },
   "source": [
    "##9/10 Logistic Regerssion & Neural Network with Scikit-Learn\n",
    "\n",
    "Adapted by Seonwoo Min from the \"An Introduction to Machine Learning with Scikit-learn\" tutorial (http://scikit-learn.org/stable/tutorial/basic/tutorial.html).\n",
    "\n",
    "In this excercise, we will cover:\n",
    "\n",
    "* Loading an example dataset & preprocessing\n",
    "* Logistic regression & neural network models in scikit-learn\n",
    "* Model training & prediction & evaluation\n",
    "* Model save & load\n",
    "* Homework"
   ]
  },
  {
   "cell_type": "markdown",
   "metadata": {
    "id": "6jCc3nd2uTpB"
   },
   "source": [
    "## 1. Loading an example dataset & preprocessing"
   ]
  },
  {
   "cell_type": "code",
   "execution_count": null,
   "metadata": {
    "id": "oXR0qyJ-uTpC"
   },
   "outputs": [],
   "source": [
    "from sklearn.datasets import load_digits\n",
    "data = load_digits()\n",
    "print(data.keys())"
   ]
  },
  {
   "cell_type": "code",
   "execution_count": null,
   "metadata": {
    "id": "5FfgysTkuTpC"
   },
   "outputs": [],
   "source": [
    "# Data shape & statistics\n",
    "print(\"Data: \", data['data'].shape)\n",
    "print(\"Label:\", data['target'].shape)\n",
    "\n",
    "# Print the number of samples for each class\n",
    "import numpy as np\n",
    "#################### To Do #################################\n",
    "\n",
    "############################################################"
   ]
  },
  {
   "cell_type": "code",
   "execution_count": null,
   "metadata": {
    "id": "oG1dHr4CuTpC"
   },
   "outputs": [],
   "source": [
    "#############################################################\n",
    "# Data Visaulization\n",
    "#############################################################\n",
    "import matplotlib.pyplot as plt\n",
    "%matplotlib inline\n",
    "\n",
    "#################### To Do #################################\n",
    "# Hint: plt.imshow(data['data'][i].reshape(8,8), cmap=plt.cm.gray_r)\n",
    "\n",
    "############################################################"
   ]
  },
  {
   "cell_type": "code",
   "execution_count": null,
   "metadata": {
    "id": "5aeX7JqhuTpD"
   },
   "outputs": [],
   "source": [
    "#############################################################\n",
    "# 1st Preprocessing\n",
    "# Use the first 20 samples in each clss as test data\n",
    "# Use the others as training data\n",
    "#############################################################\n",
    "\n",
    "#################### To Do #################################\n",
    "\n",
    "############################################################\n",
    "\n",
    "print(test_data.shape)\n",
    "print(train_data.shape)"
   ]
  },
  {
   "cell_type": "code",
   "execution_count": null,
   "metadata": {
    "id": "Ie567PVduTpD"
   },
   "outputs": [],
   "source": [
    "#############################################################\n",
    "# 2nd Preprocessing\n",
    "# Let's use only 2 and 3 for binary classification\n",
    "#############################################################\n",
    "\n",
    "#################### To Do #################################\n",
    "\n",
    "############################################################\n",
    "\n",
    "print(test_data23.shape)\n",
    "print(train_data23.shape)"
   ]
  },
  {
   "cell_type": "markdown",
   "metadata": {
    "id": "DOtAaDjbuTpD"
   },
   "source": [
    "## 2. Logistic regression & neural network models in scikit-learn\n",
    "\n",
    "For full documentations refer to the following links: <br>\n",
    "Logistic Regression: http://scikit-learn.org/stable/modules/generated/sklearn.linear_model.LogisticRegression.html <br>\n",
    "Neural network: http://scikit-learn.org/stable/modules/generated/sklearn.neural_network.MLPClassifier.html#sklearn.neural_network.MLPClassifier"
   ]
  },
  {
   "cell_type": "code",
   "execution_count": null,
   "metadata": {
    "id": "6Ci9vgU5uTpE"
   },
   "outputs": [],
   "source": [
    "from sklearn.linear_model import LogisticRegression\n",
    "from sklearn.neural_network import MLPClassifier\n",
    "\n",
    "LR = LogisticRegression(max_iter=1000, solver='sag')\n",
    "NN = MLPClassifier(hidden_layer_sizes=(10), activation='relu', learning_rate_init=0.01, max_iter=1000)"
   ]
  },
  {
   "cell_type": "markdown",
   "metadata": {
    "id": "KmBMZFuKuTpE"
   },
   "source": [
    "## 3. Model training & prediction & evaluation"
   ]
  },
  {
   "cell_type": "code",
   "execution_count": null,
   "metadata": {
    "id": "Etwr4biEuTpE"
   },
   "outputs": [],
   "source": [
    "#############################################################\n",
    "# Logistic regression model\n",
    "#############################################################\n",
    "# Training\n",
    "LR = LogisticRegression(max_iter=1, solver='sag')\n",
    "LR.fit(train_data23, train_target23)\n",
    "\n",
    "# Prediction\n",
    "train_predict23 = LR.predict(train_data23)\n",
    "test_predict23 = LR.predict(test_data23)\n",
    "print(\"test_target     :\", test_target23)\n",
    "print(\"test_prediction :\", test_predict23)\n",
    "\n",
    "#################### To Do #################################\n",
    "\n",
    "############################################################\n",
    "\n",
    "print(\"train_acc :\", train_acc23)\n",
    "print(\"test_acc  :\", test_acc23)"
   ]
  },
  {
   "cell_type": "code",
   "execution_count": null,
   "metadata": {
    "id": "a6DMzuxRuTpF"
   },
   "outputs": [],
   "source": [
    "#############################################################\n",
    "# Neural network model\n",
    "#############################################################\n",
    "\n",
    "#################### To Do #################################\n",
    "\n",
    "############################################################"
   ]
  },
  {
   "cell_type": "markdown",
   "metadata": {
    "id": "WCiuG6zruTpF"
   },
   "source": [
    "## 4. Model save & load"
   ]
  },
  {
   "cell_type": "code",
   "execution_count": null,
   "metadata": {
    "id": "OGiSsaIKuTpF"
   },
   "outputs": [],
   "source": [
    "# from sklearn.externals import joblib\n",
    "import joblib\n",
    "import os\n",
    "\n",
    "if not os.path.exists('models'):\n",
    "    os.makedirs('models')\n",
    "    \n",
    "# save\n",
    "joblib.dump(NN, 'models/NN23.joblib') \n",
    "\n",
    "# load\n",
    "NN_load = joblib.load('models/NN23.joblib') \n",
    "\n",
    "#################### To Do #################################\n",
    "\n",
    "############################################################"
   ]
  },
  {
   "cell_type": "markdown",
   "metadata": {
    "id": "RMb5E4hMuTpF"
   },
   "source": [
    "## 5. Homework\n",
    "Now it's your job to experiment with models and achieve higher accuracy on the  **<font color=red>on the entire dataset</font>**. <br>\n",
    "Try different hyperparameter configurations and save the final model as \"final_model.joblib\" <br>\n",
    "Submit the current **notebook file and the saved final model** on ETL.\n",
    "* Maximum 10 points for >= 97% accuracy on the test set\n",
    "* Maximum 8 points for >= 96% accuracy on the test set\n",
    "* Maximum 6 points for >= 95% accuracy on the test set\n",
    "* Maximum 4 points for >= 94% accuracy on the test set"
   ]
  },
  {
   "cell_type": "code",
   "execution_count": null,
   "metadata": {
    "id": "0NA25EGYuTpG"
   },
   "outputs": [],
   "source": [
    "#############################################################\n",
    "# Try different hyperparameters\n",
    "# Final model training\n",
    "#############################################################\n",
    "\n",
    "#################### To Do #################################\n",
    "\n",
    "############################################################"
   ]
  },
  {
   "cell_type": "code",
   "execution_count": null,
   "metadata": {
    "id": "rQud1OhYuTpG"
   },
   "outputs": [],
   "source": [
    "#############################################################\n",
    "# Final model test\n",
    "# Load the final model and obatin the test accuracy\n",
    "#############################################################\n",
    "\n",
    "#################### To Do #################################\n",
    "\n",
    "############################################################"
   ]
  },
  {
   "cell_type": "markdown",
   "metadata": {
    "id": "H-8CmzNhuTpG"
   },
   "source": [
    "\n",
    "### Describe what you did here\n",
    "In this cell you should also write an explanation of what you did, any additional features that you implemented, and any visualizations or graphs that you make in the process of training and evaluating your model.\n",
    "* Maximum 10 points"
   ]
  },
  {
   "cell_type": "markdown",
   "metadata": {
    "id": "a0NbdXqzx47b"
   },
   "source": [
    "작성자 학번, 성함 (**반드시 작성해주세요**)\n",
    "\n",
    "학번: \n",
    "\n",
    "이름: "
   ]
  },
  {
   "cell_type": "markdown",
   "metadata": {
    "id": "6R7BMd5YuTpG"
   },
   "source": [
    "_Tell us here_"
   ]
  }
 ],
 "metadata": {
  "colab": {
   "collapsed_sections": [
    "KubnO2egumeN",
    "6jCc3nd2uTpB",
    "DOtAaDjbuTpD",
    "KmBMZFuKuTpE",
    "WCiuG6zruTpF"
   ],
   "name": "Logistic_Regression_and_Neural_Network_with_Scikit-Learn_Distribution.ipynb",
   "provenance": []
  },
  "kernelspec": {
   "display_name": "Python 3",
   "language": "python",
   "name": "python3"
  },
  "language_info": {
   "codemirror_mode": {
    "name": "ipython",
    "version": 3
   },
   "file_extension": ".py",
   "mimetype": "text/x-python",
   "name": "python",
   "nbconvert_exporter": "python",
   "pygments_lexer": "ipython3",
   "version": "3.8.8"
  }
 },
 "nbformat": 4,
 "nbformat_minor": 1
}
