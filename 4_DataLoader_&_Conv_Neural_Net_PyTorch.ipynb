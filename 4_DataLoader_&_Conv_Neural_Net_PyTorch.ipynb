{
  "nbformat": 4,
  "nbformat_minor": 0,
  "metadata": {
    "accelerator": "GPU",
    "colab": {
      "name": "4_DataLoader_&_Conv_Neural_Net_PyTorch.ipynb",
      "provenance": [],
      "include_colab_link": true
    },
    "kernelspec": {
      "display_name": "Python 3",
      "language": "python",
      "name": "python3"
    },
    "language_info": {
      "codemirror_mode": {
        "name": "ipython",
        "version": 3
      },
      "file_extension": ".py",
      "mimetype": "text/x-python",
      "name": "python",
      "nbconvert_exporter": "python",
      "pygments_lexer": "ipython3",
      "version": "3.8.3"
    }
  },
  "cells": [
    {
      "cell_type": "markdown",
      "metadata": {
        "id": "view-in-github",
        "colab_type": "text"
      },
      "source": [
        "<a href=\"https://colab.research.google.com/github/dddonghwa/IAB/blob/main/4_DataLoader_%26_Conv_Neural_Net_PyTorch.ipynb\" target=\"_parent\"><img src=\"https://colab.research.google.com/assets/colab-badge.svg\" alt=\"Open In Colab\"/></a>"
      ]
    },
    {
      "cell_type": "markdown",
      "metadata": {
        "id": "9HCPFXrZfY4Y"
      },
      "source": [
        "# 딥러닝 모델을 학습시키기 위해 준비되어야 할 4가지 요소\n",
        "\n",
        "**1. 데이터**\n",
        "2. 모델\n",
        "3. 손실 함수(목적함수, objective function, loss function 등으로 불려요): 정답과 모델의 예측값을 어떤 식으로 비교할지 결정해주는 함수\n",
        "4. optimizer: gradient descent를 해줄 애. 즉, 모델의 파라미터를 어느 방향으로 조금 수정할지 결정하고 수정해주는 함수"
      ]
    },
    {
      "cell_type": "markdown",
      "metadata": {
        "id": "Qv60HISyfY4e"
      },
      "source": [
        "# Part 1 : Data Loader"
      ]
    },
    {
      "cell_type": "code",
      "metadata": {
        "colab": {
          "base_uri": "https://localhost:8080/",
          "height": 380
        },
        "id": "w5LEhyOBfY4f",
        "outputId": "ddd945bd-d10c-41de-b444-a5d522450111"
      },
      "source": [
        "!pip install scipy==1.1.0"
      ],
      "execution_count": 2,
      "outputs": [
        {
          "output_type": "stream",
          "name": "stdout",
          "text": [
            "Collecting scipy==1.1.0\n",
            "  Downloading scipy-1.1.0-cp37-cp37m-manylinux1_x86_64.whl (31.2 MB)\n",
            "\u001b[K     |████████████████████████████████| 31.2 MB 57 kB/s \n",
            "\u001b[?25hRequirement already satisfied: numpy>=1.8.2 in /usr/local/lib/python3.7/dist-packages (from scipy==1.1.0) (1.19.5)\n",
            "Installing collected packages: scipy\n",
            "  Attempting uninstall: scipy\n",
            "    Found existing installation: scipy 1.4.1\n",
            "    Uninstalling scipy-1.4.1:\n",
            "      Successfully uninstalled scipy-1.4.1\n",
            "\u001b[31mERROR: pip's dependency resolver does not currently take into account all the packages that are installed. This behaviour is the source of the following dependency conflicts.\n",
            "pymc3 3.11.2 requires scipy>=1.2.0, but you have scipy 1.1.0 which is incompatible.\n",
            "plotnine 0.6.0 requires scipy>=1.2.0, but you have scipy 1.1.0 which is incompatible.\n",
            "albumentations 0.1.12 requires imgaug<0.2.7,>=0.2.5, but you have imgaug 0.2.9 which is incompatible.\u001b[0m\n",
            "Successfully installed scipy-1.1.0\n"
          ]
        },
        {
          "output_type": "display_data",
          "data": {
            "application/vnd.colab-display-data+json": {
              "pip_warning": {
                "packages": [
                  "scipy"
                ]
              }
            }
          },
          "metadata": {}
        }
      ]
    },
    {
      "cell_type": "code",
      "metadata": {
        "id": "SA3RDHArfY4g"
      },
      "source": [
        "import numpy as np\n",
        "import os, sys\n",
        "import tarfile\n",
        "import matplotlib.pyplot as plt\n",
        "\n",
        "from IPython.display import display, Image\n",
        "from scipy import misc\n",
        "from six.moves.urllib.request import urlretrieve\n",
        "from six.moves import cPickle as pickle\n",
        "from tqdm import tqdm\n",
        "\n",
        "# Config the matplotlib backend as plotting inline in Ipython\n",
        "%matplotlib inline"
      ],
      "execution_count": 1,
      "outputs": []
    },
    {
      "cell_type": "markdown",
      "metadata": {
        "id": "kinbfE95fY4g"
      },
      "source": [
        "## 데이터 다운로드 하기"
      ]
    },
    {
      "cell_type": "code",
      "metadata": {
        "colab": {
          "base_uri": "https://localhost:8080/"
        },
        "id": "0JbXVoCFfY4h",
        "outputId": "cce07c82-3e47-4c80-d560-c7a802b23f2a"
      },
      "source": [
        "url = 'https://commondatastorage.googleapis.com/books1000/'\n",
        "\n",
        "data_root = './data'\n",
        "if not os.path.exists(data_root):\n",
        "    os.mkdir(data_root)\n",
        "    \n",
        "def dataset_downloader(filename):\n",
        "    \"\"\"데이터셋 파일이 없으면 다운로드 합니다.\"\"\"\n",
        "    dest_dir = os.path.join(data_root, filename)\n",
        "    if not os.path.exists(dest_dir):\n",
        "        print('다운로드 시도 중 : ', filename)\n",
        "        filename, _ = urlretrieve(url + filename, dest_dir)\n",
        "        print(filename, ' 다운로드 완료!')\n",
        "    else:\n",
        "        print(dest_dir, ' 이미 있습니다.')\n",
        "    \n",
        "    return dest_dir\n",
        "\n",
        "train_filename = dataset_downloader('notMNIST_large.tar.gz')\n",
        "test_filename = dataset_downloader('notMNIST_small.tar.gz')"
      ],
      "execution_count": 3,
      "outputs": [
        {
          "output_type": "stream",
          "name": "stdout",
          "text": [
            "다운로드 시도 중 :  notMNIST_large.tar.gz\n",
            "./data/notMNIST_large.tar.gz  다운로드 완료!\n",
            "다운로드 시도 중 :  notMNIST_small.tar.gz\n",
            "./data/notMNIST_small.tar.gz  다운로드 완료!\n"
          ]
        }
      ]
    },
    {
      "cell_type": "markdown",
      "metadata": {
        "id": "iGhHugGyfY4i"
      },
      "source": [
        "## 다운로드한 데이터 압축 풀기"
      ]
    },
    {
      "cell_type": "code",
      "metadata": {
        "colab": {
          "base_uri": "https://localhost:8080/"
        },
        "id": "zy6GIVNcfY4j",
        "outputId": "8fb1225f-1f3f-4e24-fe25-6b735c48b6b5"
      },
      "source": [
        "num_classes = 10\n",
        "np.random.seed(1000)\n",
        "\n",
        "def data_extract(filename):\n",
        "    root = os.path.splitext(os.path.splitext(filename)[0])[0]  # remove .tar.gz\n",
        "    \n",
        "    if os.path.isdir(root):\n",
        "        print('{} 이미 있습니다 - {} 는 추출을 건너뜁니다.'.format(root, filename))\n",
        "    else:\n",
        "        print('{} 에서 데이터를 추출합니다.'.format(root))\n",
        "        tar = tarfile.open(filename)\n",
        "        sys.stdout.flush()\n",
        "        tar.extractall(data_root)\n",
        "        tar.close()\n",
        "    data_folders = [\n",
        "        os.path.join(root, d) for d in sorted(os.listdir(root))\n",
        "        if os.path.isdir(os.path.join(root, d))]\n",
        "    \n",
        "    if len(data_folders) != num_classes:\n",
        "        raise Exception('{} folders 기대했는데, {} 개가 있네요.'.format(num_classes, len(data_folders)))\n",
        "    \n",
        "    print(data_folders)\n",
        "    return data_folders\n",
        "\n",
        "train_folders = data_extract(train_filename)\n",
        "test_folders = data_extract(test_filename)"
      ],
      "execution_count": 4,
      "outputs": [
        {
          "output_type": "stream",
          "name": "stdout",
          "text": [
            "./data/notMNIST_large 에서 데이터를 추출합니다.\n",
            "['./data/notMNIST_large/A', './data/notMNIST_large/B', './data/notMNIST_large/C', './data/notMNIST_large/D', './data/notMNIST_large/E', './data/notMNIST_large/F', './data/notMNIST_large/G', './data/notMNIST_large/H', './data/notMNIST_large/I', './data/notMNIST_large/J']\n",
            "./data/notMNIST_small 에서 데이터를 추출합니다.\n",
            "['./data/notMNIST_small/A', './data/notMNIST_small/B', './data/notMNIST_small/C', './data/notMNIST_small/D', './data/notMNIST_small/E', './data/notMNIST_small/F', './data/notMNIST_small/G', './data/notMNIST_small/H', './data/notMNIST_small/I', './data/notMNIST_small/J']\n"
          ]
        }
      ]
    },
    {
      "cell_type": "markdown",
      "metadata": {
        "id": "aTpTo6qyfY4k"
      },
      "source": [
        "## 각 글자 데이터를 로드해서 pickle 파일 형태로 저장하기\n",
        "주의: 개인 노트북 컴퓨터일 경우 오래 걸릴 수 있습니다."
      ]
    },
    {
      "cell_type": "code",
      "metadata": {
        "id": "47OEcpVhfY4l",
        "colab": {
          "base_uri": "https://localhost:8080/"
        },
        "outputId": "fe902049-1822-475d-f401-68ef80def06d"
      },
      "source": [
        "# import imageio\n",
        "from scipy import ndimage\n",
        "\n",
        "\n",
        "image_size = 28  # Pixel width and height.\n",
        "pixel_depth = 255.0  # Number of levels per pixel.\n",
        "\n",
        "def load_letter(folder):\n",
        "    \"\"\"한 글자 클래스 데이터를 로드합니다.\"\"\"\n",
        "    image_files = os.listdir(folder)\n",
        "    dataset = np.ndarray(shape=(len(image_files), image_size, image_size), dtype=np.float32)\n",
        "    \n",
        "    num_images = 0\n",
        "    for image in image_files:\n",
        "        image_file = os.path.join(folder, image)\n",
        "        try:\n",
        "            # image_data = (misc.imread(image_file).astype(float) - pixel_depth / 2) / pixel_depth  # image 픽셀값의 범위를 -0.5 ~ 0.5로 만들어줍니다.\n",
        "            # image_data = (imageio.imread(image_file).astype(float) - pixel_depth / 2) / pixel_depth\n",
        "            image_data = (ndimage.imread(image_file).astype(float) - pixel_depth / 2) / pixel_depth\n",
        "\n",
        "            if image_data.shape != (image_size, image_size):\n",
        "                raise Exception('이미지가 이상한 크기인데요?: {}'.format(str(image_data.shape)))\n",
        "            dataset[num_images, :, :] = image_data\n",
        "            num_images = num_images + 1\n",
        "        except IOError as e:\n",
        "            print('{} - skip'.format(e))\n",
        "    \n",
        "    dataset = dataset[0:num_images, :, :]\n",
        "    print('전체 데이터셋 모양은 다음과 같습니다:', dataset.shape)\n",
        "    \n",
        "    return dataset\n",
        "        \n",
        "def make_pickle(data_folders):\n",
        "    dataset_names = []\n",
        "    for folder in data_folders:\n",
        "        set_filename = folder + '.pickle'\n",
        "        dataset_names.append(set_filename)\n",
        "        if os.path.exists(set_filename):\n",
        "            print('{} 이미 있습니다 - pickling을 건너뜁니다.'.format(set_filename))\n",
        "            continue\n",
        "        print('Pickling {}'.format(set_filename))\n",
        "        dataset = load_letter(folder)\n",
        "        with open(set_filename, 'wb') as f:\n",
        "            pickle.dump(dataset, f)\n",
        "\n",
        "    return dataset_names\n",
        "\n",
        "train_datasets = make_pickle(train_folders)\n",
        "test_datasets = make_pickle(test_folders)"
      ],
      "execution_count": 8,
      "outputs": [
        {
          "output_type": "stream",
          "name": "stdout",
          "text": [
            "Pickling ./data/notMNIST_large/A.pickle\n",
            "cannot identify image file './data/notMNIST_large/A/SG90IE11c3RhcmQgQlROIFBvc3Rlci50dGY=.png' - skip\n"
          ]
        },
        {
          "output_type": "stream",
          "name": "stderr",
          "text": [
            "/usr/local/lib/python3.7/dist-packages/ipykernel_launcher.py:19: DeprecationWarning: `imread` is deprecated!\n",
            "`imread` is deprecated in SciPy 1.0.0.\n",
            "Use ``matplotlib.pyplot.imread`` instead.\n"
          ]
        },
        {
          "output_type": "stream",
          "name": "stdout",
          "text": [
            "cannot identify image file './data/notMNIST_large/A/Um9tYW5hIEJvbGQucGZi.png' - skip\n",
            "cannot identify image file './data/notMNIST_large/A/RnJlaWdodERpc3BCb29rSXRhbGljLnR0Zg==.png' - skip\n",
            "전체 데이터셋 모양은 다음과 같습니다: (52909, 28, 28)\n",
            "Pickling ./data/notMNIST_large/B.pickle\n",
            "cannot identify image file './data/notMNIST_large/B/TmlraXNFRi1TZW1pQm9sZEl0YWxpYy5vdGY=.png' - skip\n",
            "전체 데이터셋 모양은 다음과 같습니다: (52911, 28, 28)\n",
            "Pickling ./data/notMNIST_large/C.pickle\n",
            "전체 데이터셋 모양은 다음과 같습니다: (52912, 28, 28)\n",
            "Pickling ./data/notMNIST_large/D.pickle\n",
            "cannot identify image file './data/notMNIST_large/D/VHJhbnNpdCBCb2xkLnR0Zg==.png' - skip\n",
            "전체 데이터셋 모양은 다음과 같습니다: (52911, 28, 28)\n",
            "Pickling ./data/notMNIST_large/E.pickle\n",
            "전체 데이터셋 모양은 다음과 같습니다: (52912, 28, 28)\n",
            "Pickling ./data/notMNIST_large/F.pickle\n",
            "전체 데이터셋 모양은 다음과 같습니다: (52912, 28, 28)\n",
            "Pickling ./data/notMNIST_large/G.pickle\n",
            "전체 데이터셋 모양은 다음과 같습니다: (52912, 28, 28)\n",
            "Pickling ./data/notMNIST_large/H.pickle\n",
            "전체 데이터셋 모양은 다음과 같습니다: (52912, 28, 28)\n",
            "Pickling ./data/notMNIST_large/I.pickle\n",
            "전체 데이터셋 모양은 다음과 같습니다: (52912, 28, 28)\n",
            "Pickling ./data/notMNIST_large/J.pickle\n",
            "전체 데이터셋 모양은 다음과 같습니다: (52911, 28, 28)\n",
            "Pickling ./data/notMNIST_small/A.pickle\n",
            "cannot identify image file './data/notMNIST_small/A/RGVtb2NyYXRpY2FCb2xkT2xkc3R5bGUgQm9sZC50dGY=.png' - skip\n",
            "전체 데이터셋 모양은 다음과 같습니다: (1872, 28, 28)\n",
            "Pickling ./data/notMNIST_small/B.pickle\n",
            "전체 데이터셋 모양은 다음과 같습니다: (1873, 28, 28)\n",
            "Pickling ./data/notMNIST_small/C.pickle\n",
            "전체 데이터셋 모양은 다음과 같습니다: (1873, 28, 28)\n",
            "Pickling ./data/notMNIST_small/D.pickle\n",
            "전체 데이터셋 모양은 다음과 같습니다: (1873, 28, 28)\n",
            "Pickling ./data/notMNIST_small/E.pickle\n",
            "전체 데이터셋 모양은 다음과 같습니다: (1873, 28, 28)\n",
            "Pickling ./data/notMNIST_small/F.pickle\n",
            "cannot identify image file './data/notMNIST_small/F/Q3Jvc3NvdmVyIEJvbGRPYmxpcXVlLnR0Zg==.png' - skip\n",
            "전체 데이터셋 모양은 다음과 같습니다: (1872, 28, 28)\n",
            "Pickling ./data/notMNIST_small/G.pickle\n",
            "전체 데이터셋 모양은 다음과 같습니다: (1872, 28, 28)\n",
            "Pickling ./data/notMNIST_small/H.pickle\n",
            "전체 데이터셋 모양은 다음과 같습니다: (1872, 28, 28)\n",
            "Pickling ./data/notMNIST_small/I.pickle\n",
            "전체 데이터셋 모양은 다음과 같습니다: (1872, 28, 28)\n",
            "Pickling ./data/notMNIST_small/J.pickle\n",
            "전체 데이터셋 모양은 다음과 같습니다: (1872, 28, 28)\n"
          ]
        }
      ]
    },
    {
      "cell_type": "markdown",
      "metadata": {
        "id": "n6th2tEMfY4m"
      },
      "source": [
        "## 이미지 예시 보기"
      ]
    },
    {
      "cell_type": "code",
      "metadata": {
        "id": "VKxnN7nCfY4n",
        "colab": {
          "base_uri": "https://localhost:8080/",
          "height": 259
        },
        "outputId": "924b77a5-34a1-4759-f566-408e242cbe2a"
      },
      "source": [
        "images = []\n",
        "for i in tqdm(range(len(train_datasets))):\n",
        "    set_filename = train_datasets[i]\n",
        "    with open(set_filename, 'rb') as f:\n",
        "        dataset = pickle.load(f)\n",
        "    images.append(dataset[1])\n",
        "print(np.shape(images))\n",
        "\n",
        "Row = 2\n",
        "Column = 5\n",
        "for i, image in enumerate(images):\n",
        "    plt.subplot(Row, Column, i+1)\n",
        "    plt.title('Label = {}'.format(os.path.basename(train_datasets[i])[0]))\n",
        "    plt.imshow(image, cmap='gray')\n",
        "    plt.axis('off')\n",
        "plt.show()"
      ],
      "execution_count": 9,
      "outputs": [
        {
          "output_type": "stream",
          "name": "stderr",
          "text": [
            "100%|██████████| 10/10 [00:01<00:00,  5.44it/s]\n"
          ]
        },
        {
          "output_type": "stream",
          "name": "stdout",
          "text": [
            "(10, 28, 28)\n"
          ]
        },
        {
          "output_type": "display_data",
          "data": {
            "image/png": "[encoded data removed]",
            "text/plain": [
              "<Figure size 432x288 with 10 Axes>"
            ]
          },
          "metadata": {
            "needs_background": "light"
          }
        }
      ]
    },
    {
      "cell_type": "markdown",
      "metadata": {
        "id": "aVHrdcA0fY4n"
      },
      "source": [
        "## 트레이닝셋, 테스트셋 개수 확인"
      ]
    },
    {
      "cell_type": "code",
      "metadata": {
        "id": "BJ6AvdvQfY4o",
        "colab": {
          "base_uri": "https://localhost:8080/"
        },
        "outputId": "38c282e7-e7e2-4e63-a4ad-3dd402a6ac74"
      },
      "source": [
        "print(\"==== 트레이닝셋을 위한 데이터들 ====\")\n",
        "for i in range(len(train_datasets)):\n",
        "    set_filename = train_datasets[i]\n",
        "    with open(set_filename, 'rb') as f:\n",
        "        dataset = pickle.load(f)\n",
        "    print(\"글자 {} 에 대한 트레이닝 데이터 개수는 {} 개입니다.\".format(os.path.basename(set_filename)[0], len(dataset)))\n",
        "\n",
        "print(\"\\n==== 테스트셋을 위한 데이터들 =====\")\n",
        "for i in range(len(test_datasets)):\n",
        "    set_filename = test_datasets[i]\n",
        "    with open(set_filename, 'rb') as f:\n",
        "        dataset = pickle.load(f)\n",
        "    print(\"글자 {} 에 대한 테스트 데이터 개수는 {} 개입니다.\".format(os.path.basename(set_filename)[0], len(dataset)))"
      ],
      "execution_count": 10,
      "outputs": [
        {
          "output_type": "stream",
          "name": "stdout",
          "text": [
            "==== 트레이닝셋을 위한 데이터들 ====\n",
            "글자 A 에 대한 트레이닝 데이터 개수는 52909 개입니다.\n",
            "글자 B 에 대한 트레이닝 데이터 개수는 52911 개입니다.\n",
            "글자 C 에 대한 트레이닝 데이터 개수는 52912 개입니다.\n",
            "글자 D 에 대한 트레이닝 데이터 개수는 52911 개입니다.\n",
            "글자 E 에 대한 트레이닝 데이터 개수는 52912 개입니다.\n",
            "글자 F 에 대한 트레이닝 데이터 개수는 52912 개입니다.\n",
            "글자 G 에 대한 트레이닝 데이터 개수는 52912 개입니다.\n",
            "글자 H 에 대한 트레이닝 데이터 개수는 52912 개입니다.\n",
            "글자 I 에 대한 트레이닝 데이터 개수는 52912 개입니다.\n",
            "글자 J 에 대한 트레이닝 데이터 개수는 52911 개입니다.\n",
            "\n",
            "==== 테스트셋을 위한 데이터들 =====\n",
            "글자 A 에 대한 테스트 데이터 개수는 1872 개입니다.\n",
            "글자 B 에 대한 테스트 데이터 개수는 1873 개입니다.\n",
            "글자 C 에 대한 테스트 데이터 개수는 1873 개입니다.\n",
            "글자 D 에 대한 테스트 데이터 개수는 1873 개입니다.\n",
            "글자 E 에 대한 테스트 데이터 개수는 1873 개입니다.\n",
            "글자 F 에 대한 테스트 데이터 개수는 1872 개입니다.\n",
            "글자 G 에 대한 테스트 데이터 개수는 1872 개입니다.\n",
            "글자 H 에 대한 테스트 데이터 개수는 1872 개입니다.\n",
            "글자 I 에 대한 테스트 데이터 개수는 1872 개입니다.\n",
            "글자 J 에 대한 테스트 데이터 개수는 1872 개입니다.\n"
          ]
        }
      ]
    },
    {
      "cell_type": "markdown",
      "metadata": {
        "id": "-db_pVRzfY4o"
      },
      "source": [
        "## 각 글자 별로 나뉘어져있던 데이터를 합쳐서 트레이닝셋, 테스트셋 2개로 만들기"
      ]
    },
    {
      "cell_type": "code",
      "metadata": {
        "id": "EiU8Tkq_fY4o",
        "colab": {
          "base_uri": "https://localhost:8080/"
        },
        "outputId": "55e74263-e0bc-43b1-aeff-df96527ea5ac"
      },
      "source": [
        "def merge_datasets(pickle_files, dataset_size):\n",
        "    num_classes = len(pickle_files)\n",
        "    dataset = np.ndarray((dataset_size, image_size, image_size), dtype=np.float32)\n",
        "    labels = np.ndarray(dataset_size, dtype=np.int32)\n",
        "    tsize_per_class = dataset_size // num_classes\n",
        "\n",
        "    start_t = 0\n",
        "    end_t = tsize_per_class\n",
        "    for label, pickle_file in enumerate(pickle_files):       \n",
        "        with open(pickle_file, 'rb') as f:\n",
        "            letter_set = pickle.load(f)\n",
        "            np.random.shuffle(letter_set)\n",
        "\n",
        "            letter = letter_set[0:tsize_per_class, :, :]\n",
        "            dataset[start_t:end_t, :, :] = letter\n",
        "            labels[start_t:end_t] = label\n",
        "            start_t += tsize_per_class\n",
        "            end_t += tsize_per_class\n",
        "\n",
        "    return dataset, labels\n",
        "\n",
        "train_size = 200000\n",
        "test_size = 10000\n",
        "\n",
        "train_dataset, train_labels = merge_datasets(train_datasets, train_size)\n",
        "test_dataset, test_labels = merge_datasets(test_datasets, test_size)\n",
        "\n",
        "print('Training:', train_dataset.shape, train_labels.shape)\n",
        "print('Testing:', test_dataset.shape, test_labels.shape)"
      ],
      "execution_count": 11,
      "outputs": [
        {
          "output_type": "stream",
          "name": "stdout",
          "text": [
            "Training: (200000, 28, 28) (200000,)\n",
            "Testing: (10000, 28, 28) (10000,)\n"
          ]
        }
      ]
    },
    {
      "cell_type": "markdown",
      "metadata": {
        "id": "7udEkIx2fY4p"
      },
      "source": [
        "### 데이터 섞어주기"
      ]
    },
    {
      "cell_type": "code",
      "metadata": {
        "id": "T0BZtqlXfY4p"
      },
      "source": [
        "def shuffle(dataset, labels):\n",
        "    permutation = np.random.permutation(labels.shape[0])\n",
        "    shuffled_dataset = dataset[permutation,:,:]\n",
        "    shuffled_labels = labels[permutation]\n",
        "    return shuffled_dataset, shuffled_labels\n",
        "\n",
        "train_dataset, train_labels = shuffle(train_dataset, train_labels)\n",
        "test_dataset, test_labels = shuffle(test_dataset, test_labels)"
      ],
      "execution_count": 12,
      "outputs": []
    },
    {
      "cell_type": "markdown",
      "metadata": {
        "id": "ZQ-u4GHUfY4p"
      },
      "source": [
        "### 섞은 후에 다시 한 번 보기"
      ]
    },
    {
      "cell_type": "code",
      "metadata": {
        "id": "D-8AU2edfY4q",
        "colab": {
          "base_uri": "https://localhost:8080/",
          "height": 465
        },
        "outputId": "39a1990d-fa89-4e34-dd31-d726b3d24490"
      },
      "source": [
        "Row = 2\n",
        "Column = 5\n",
        "ListOfLabel = ['A', 'B', 'C', 'D', 'E', 'F', 'G', 'H', 'I', 'J']\n",
        "\n",
        "print(\"==== 트레이닝 데이터 예시 ====\")\n",
        "images = train_dataset[0:10]\n",
        "labels = train_labels[0:10]\n",
        "for i, image in enumerate(images):\n",
        "    plt.subplot(Row, Column, i+1)\n",
        "    plt.title('Label = {}'.format(ListOfLabel[labels[i]]))\n",
        "    plt.imshow(image, cmap='gray')\n",
        "    plt.axis('off')\n",
        "plt.show()\n",
        "\n",
        "print(\"==== 테스트 데이터 예시 ====\")\n",
        "images = test_dataset[0:10]\n",
        "labels = test_labels[0:10]\n",
        "for i, image in enumerate(images):\n",
        "    plt.subplot(Row, Column, i+1)\n",
        "    plt.title('Label = {}'.format(ListOfLabel[labels[i]]))\n",
        "    plt.imshow(image, cmap='gray')\n",
        "    plt.axis('off')\n",
        "plt.show()"
      ],
      "execution_count": 13,
      "outputs": [
        {
          "output_type": "stream",
          "name": "stdout",
          "text": [
            "==== 트레이닝 데이터 예시 ====\n"
          ]
        },
        {
          "output_type": "display_data",
          "data": {
            "image/png": "[encoded data removed]",
            "text/plain": [
              "<Figure size 432x288 with 10 Axes>"
            ]
          },
          "metadata": {
            "needs_background": "light"
          }
        },
        {
          "output_type": "stream",
          "name": "stdout",
          "text": [
            "==== 테스트 데이터 예시 ====\n"
          ]
        },
        {
          "output_type": "display_data",
          "data": {
            "image/png": "[encoded data removed]",
            "text/plain": [
              "<Figure size 432x288 with 10 Axes>"
            ]
          },
          "metadata": {
            "needs_background": "light"
          }
        }
      ]
    },
    {
      "cell_type": "markdown",
      "metadata": {
        "id": "RR-CDzypfY4q"
      },
      "source": [
        "## 파일로 내보내기"
      ]
    },
    {
      "cell_type": "code",
      "metadata": {
        "id": "4mP8YdSafY4q"
      },
      "source": [
        "pickle_file = os.path.join(data_root, 'notMNIST.pickle')\n",
        "\n",
        "f = open(pickle_file, 'wb')\n",
        "save = {\n",
        "    'train_dataset': train_dataset[:50000,],\n",
        "    'train_labels': train_labels[:50000,],\n",
        "    'test_dataset': test_dataset[:5000,],\n",
        "    'test_labels': test_labels[:5000,],\n",
        "}\n",
        "pickle.dump(save, f, pickle.HIGHEST_PROTOCOL)\n",
        "f.close()"
      ],
      "execution_count": 14,
      "outputs": []
    },
    {
      "cell_type": "markdown",
      "metadata": {
        "id": "c3LmpZW-fY4r"
      },
      "source": [
        "# 딥러닝 모델을 학습시키기 위해 준비되어야 할 4가지 요소\n",
        "\n",
        "**1. 데이터**\n",
        "\n",
        "2. 모델\n",
        "3. 손실 함수(목적함수, objective function, loss function 등으로 불려요): 정답과 모델의 예측값을 어떤 식으로 비교할지 결정해주는 함수\n",
        "4. Optimizer: gradient descent를 해줄 애. 즉, 모델의 파라미터를 어느 방향으로 조금 수정할지 결정하고 수정해주는 함수"
      ]
    },
    {
      "cell_type": "markdown",
      "metadata": {
        "id": "KNtRg6HRfY4r"
      },
      "source": [
        "# Part 2: PyTorch를 이용해서 Convolutional Neural Network 정의해보기"
      ]
    },
    {
      "cell_type": "code",
      "metadata": {
        "id": "539faVnxfY4t"
      },
      "source": [
        "%matplotlib inline\n",
        "\n",
        "import torch\n",
        "import torchvision\n",
        "import torchvision.transforms as transforms\n",
        "\n",
        "import os\n",
        "import random\n",
        "import numpy as np\n",
        "from six.moves import range\n",
        "from six.moves import cPickle as pickle\n",
        "\n",
        "import matplotlib.pyplot as plt"
      ],
      "execution_count": 15,
      "outputs": []
    },
    {
      "cell_type": "markdown",
      "metadata": {
        "id": "FGdDXgN_fY4t"
      },
      "source": [
        "## 모델에 데이터 넣을 준비하기\n",
        "\n",
        "우선 사용하고 싶은 데이터 파일이 있다면 \n",
        "1. 그걸 우선 numpy array 형식으로 불러와야 해요.\n",
        "2. 그리고는 필요한 전처리를 해준 후에 \n",
        "3. 이 numpy array를 `torch.*Tensor` 형식으로 변환하고 \n",
        "4. dataloader에 넣어주면 pytorch로 짠 딥러닝 모델에 넣을 준비가 된 거예요.\n",
        "\n",
        "대개 이제 이런 데이터 처리를 도와주는 패키지들이 있는데<br/>\n",
        "이미지는 openCV, Pillow를 많이 쓰고,<br/>\n",
        "텍스트에는 SpaCy를 많이 사용합니다. <br/>\n",
        "\n",
        "여기서는 매우 간단한 이미지 데이터를 사용하므로 별도의 패키지를 쓰지는 않을게요 "
      ]
    },
    {
      "cell_type": "markdown",
      "metadata": {
        "id": "WSgoDX_0fY4u"
      },
      "source": [
        "### 1. 데이터셋 불러오기\n",
        "\n",
        "이미 앞서서 numpy형식으로 저장을 해뒀죠? <br/>\n",
        "그러니까 그냥 로드만 해주면 됩니다. <br/>\n",
        "고마워 pickle! <br/>"
      ]
    },
    {
      "cell_type": "code",
      "metadata": {
        "id": "ah_vjmQJfY4u",
        "colab": {
          "base_uri": "https://localhost:8080/"
        },
        "outputId": "8af03c89-8b68-4bd3-9c23-143149b135e3"
      },
      "source": [
        "pickle_file = 'data/notMNIST.pickle'\n",
        "\n",
        "with open(pickle_file, 'rb') as f:\n",
        "    save = pickle.load(f)\n",
        "    train_dataset = save['train_dataset']\n",
        "    train_labels = save['train_labels']\n",
        "    test_dataset = save['test_dataset']\n",
        "    test_labels = save['test_labels']\n",
        "    del save  # garbage collector(gc)에게 \"이거 지워도 된단다\"라고 넌지시 알려주기 \n",
        "    print('Training set', train_dataset.shape, train_labels.shape)\n",
        "    print('Test set', test_dataset.shape, test_labels.shape)"
      ],
      "execution_count": 16,
      "outputs": [
        {
          "output_type": "stream",
          "name": "stdout",
          "text": [
            "Training set (50000, 28, 28) (50000,)\n",
            "Test set (5000, 28, 28) (5000,)\n"
          ]
        }
      ]
    },
    {
      "cell_type": "markdown",
      "metadata": {
        "id": "OHzb_BHHfY4v"
      },
      "source": [
        "### ~심심하니까~ 이미지 한 번 더 확인해줍니다"
      ]
    },
    {
      "cell_type": "code",
      "metadata": {
        "id": "33wnMZ0NfY4v",
        "colab": {
          "base_uri": "https://localhost:8080/",
          "height": 259
        },
        "outputId": "f7a5bc6b-4317-4eb7-d731-5f1662672c7a"
      },
      "source": [
        "Row = 2\n",
        "Column = 5\n",
        "classes = ['A', 'B', 'C', 'D', 'E', 'F', 'G', 'H', 'I', 'J']\n",
        "\n",
        "print(\"==== 트레이닝 데이터 예시 ====\")\n",
        "rand = random.randint(0, 29989)  # 그냥 아무 랜덤한 이미지들을 뽑아내기 위해서 index 역할을 해줄 숫자 하나를 뽑아볼게요.\n",
        "images = train_dataset[rand:rand+10]\n",
        "labels = train_labels[rand:rand+10]\n",
        "print(labels)\n",
        "for i, image in enumerate(images):\n",
        "    plt.subplot(Row, Column, i+1)\n",
        "    plt.title('Label = {}'.format(classes[labels[i]]))\n",
        "    plt.imshow(image, cmap='gray')\n",
        "    plt.axis('off')\n",
        "plt.show()"
      ],
      "execution_count": 17,
      "outputs": [
        {
          "output_type": "stream",
          "name": "stdout",
          "text": [
            "==== 트레이닝 데이터 예시 ====\n",
            "[4 1 9 8 7 1 3 2 5 7]\n"
          ]
        },
        {
          "output_type": "display_data",
          "data": {
            "image/png": "[encoded data removed]",
            "text/plain": [
              "<Figure size 432x288 with 10 Axes>"
            ]
          },
          "metadata": {
            "needs_background": "light"
          }
        }
      ]
    },
    {
      "cell_type": "markdown",
      "metadata": {
        "id": "nhx6w0QrfY4w"
      },
      "source": [
        "### 2. 전처리"
      ]
    },
    {
      "cell_type": "code",
      "metadata": {
        "id": "Uflarjl4fY4w",
        "colab": {
          "base_uri": "https://localhost:8080/"
        },
        "outputId": "0a36b51f-4921-4e4c-a2bb-72feb727441c"
      },
      "source": [
        "image_size = 28  # notMNIST 데이터는 이미지 크기가 28x28이였죠?\n",
        "num_labels = 10  # 클래스 개수는 10개구요.\n",
        "\n",
        "# 트레이닝셋, 테스트셋 이미지들의 차원 배치를 좀 바꿔줍니다.\n",
        "x_train = train_dataset.reshape(-1, 1, 28, 28)  # 왜 1일까요? 흑백 이미지\n",
        "x_test = test_dataset.reshape(-1, 1, 28, 28)\n",
        "\n",
        "y_train = train_labels\n",
        "y_test = test_labels\n",
        "\n",
        "print(x_train.shape, x_test.shape)\n",
        "print(y_train.shape, y_test.shape)"
      ],
      "execution_count": 18,
      "outputs": [
        {
          "output_type": "stream",
          "name": "stdout",
          "text": [
            "(50000, 1, 28, 28) (5000, 1, 28, 28)\n",
            "(50000,) (5000,)\n"
          ]
        }
      ]
    },
    {
      "cell_type": "markdown",
      "metadata": {
        "id": "AVB73vLyfY4x"
      },
      "source": [
        "### 3. tensor로 바꿔주기"
      ]
    },
    {
      "cell_type": "code",
      "metadata": {
        "id": "5fbGAM6SfY4x"
      },
      "source": [
        "x_train = torch.tensor(x_train)\n",
        "y_train = torch.tensor(y_train, dtype=torch.int64)\n",
        "\n",
        "x_test = torch.tensor(x_test)\n",
        "y_test = torch.tensor(y_test, dtype=torch.int64)"
      ],
      "execution_count": 19,
      "outputs": []
    },
    {
      "cell_type": "markdown",
      "metadata": {
        "id": "BwqMGbnUfY4x"
      },
      "source": [
        "### 4. data loader에 넣어주기"
      ]
    },
    {
      "cell_type": "code",
      "metadata": {
        "id": "Ew4LTdgAfY4y"
      },
      "source": [
        "train_set = torch.utils.data.TensorDataset(x_train, y_train)\n",
        "test_set = torch.utils.data.TensorDataset(x_test, y_test)\n",
        "\n",
        "batch_size = 16  # 데이터를 모델에 16개씩 넣어주겠다는 의미예요\n",
        "train_loader = torch.utils.data.DataLoader(dataset=train_set, \n",
        "                                           batch_size=batch_size, \n",
        "                                           shuffle=True)\n",
        "test_loader = torch.utils.data.DataLoader(dataset=test_set, \n",
        "                                          batch_size=batch_size, \n",
        "                                          shuffle=False)"
      ],
      "execution_count": 20,
      "outputs": []
    },
    {
      "cell_type": "markdown",
      "metadata": {
        "id": "Q18KOkvYfY4z"
      },
      "source": [
        "## 학습 이미지 예시 보기"
      ]
    },
    {
      "cell_type": "code",
      "metadata": {
        "id": "cpR0FqRafY40",
        "colab": {
          "base_uri": "https://localhost:8080/",
          "height": 113
        },
        "outputId": "2bffffe3-5bc5-495f-ef6f-1ba13595f947"
      },
      "source": [
        "import matplotlib.pyplot as plt\n",
        "import numpy as np\n",
        "\n",
        "# functions to show an image\n",
        "def imshow(img):\n",
        "    img = img + 0.5     # 아까 앞에서 normalize해줘서 색깔 이미지가 이상해져있을 거기 때문에 보기 편하라고 다시 unnormalize해줍니다\n",
        "    npimg = img.numpy()\n",
        "    plt.imshow(np.transpose(npimg, (1, 2, 0)))\n",
        "    plt.show()\n",
        "\n",
        "# get some random training images\n",
        "dataiter = iter(train_loader)\n",
        "images, labels = dataiter.next()\n",
        "\n",
        "# show images\n",
        "imshow(torchvision.utils.make_grid(images[:8]))\n",
        "# print labels\n",
        "print(' '.join('%5s' % classes[labels[j]] for j in range(8)))"
      ],
      "execution_count": 21,
      "outputs": [
        {
          "output_type": "display_data",
          "data": {
            "image/png": "[encoded data removed]",
            "text/plain": [
              "<Figure size 432x288 with 1 Axes>"
            ]
          },
          "metadata": {
            "needs_background": "light"
          }
        },
        {
          "output_type": "stream",
          "name": "stdout",
          "text": [
            "    I     B     A     E     E     A     G     J\n"
          ]
        }
      ]
    },
    {
      "cell_type": "markdown",
      "metadata": {
        "id": "rbvjqZsYfY40"
      },
      "source": [
        "# 딥러닝 모델을 학습시키기 위해 준비되어야 할 4가지 요소\n",
        "\n",
        "1. 데이터\n",
        "\n",
        "**2. 모델**\n",
        "3. Loss function (손실함수, 목적함수, objective function 등으로 불려요): 정답과 모델의 예측값을 어떤 식으로 비교할지 결정해주는 함수\n",
        "4. Optimizer: gradient descent를 해줄 애. 즉, 모델의 파라미터를 어느 방향으로 조금 수정할지 결정하고 수정해주는 함수"
      ]
    },
    {
      "cell_type": "markdown",
      "metadata": {
        "id": "RvYmIZJgfY40"
      },
      "source": [
        "## 모델 정의하기"
      ]
    },
    {
      "cell_type": "code",
      "metadata": {
        "id": "mh0vwn9BfY40"
      },
      "source": [
        "import torch.nn as nn\n",
        "\n",
        "class Net(nn.Module):\n",
        "    def __init__(self):\n",
        "        super(Net, self).__init__()\n",
        "        # 1 input image channel, 6 output channels, 3x3 square convolution\n",
        "        self.conv1 = nn.Conv2d(1, 6, 3, stride=1, padding=1)  # yes, zero padding. \n",
        "        self.pool = nn.MaxPool2d(2, 2)\n",
        "        self.relu = nn.ReLU()\n",
        "        ############### TODO: fc layer를 완성 해보세요 ################\n",
        "        \n",
        "        # self.fc = nn.Linear(인풋 숫자 , 아웃풋 숫자 )\n",
        "        # [28, 28, 1] =(padding)=> [30,30,1] => [27,27,1] => [27,27,1] => [28,28,1] => [28,28,6] (conv1을 통과했을 때)\n",
        "        # [28,28,6] =(pooling)=> [28/2, 28/2, 6] = [14,14,6] =(relu)=> [14,14,6] (pool 를 통과했을 때)\n",
        "        # [14,14,6] = [14,14,6] (relu)\n",
        "        self.fc = nn.Linear(14 * 14 * 6, 10)\n",
        "        \n",
        "        ########################################################\n",
        "\n",
        "\n",
        "    def forward(self, x):\n",
        "        x = self.conv1(x)\n",
        "        x = self.relu(x)\n",
        "        x = self.pool(x)\n",
        "        # print(\"view 이전 x의 모양: \", x.shape)\n",
        "        \n",
        "        # 위 3줄을 줄여서 표현한 게 아래예요.\n",
        "        # x = self.pool(self.relu(self.conv1(x)))\n",
        "\n",
        "        ############### TODO: 빈칸을 완성 해보세요 ################\n",
        "        x = x.view(-1, 1176)\n",
        "        # x = x.view(-1, 여긴 뭐가 들어가야 할까요)  # 얘의 기능은 텐서의 모양을 원하는 모양으로 바꿔주는 거예요\n",
        "        # 예시: x가 만약 (16, 3, 12, 12) 모양이었다면 x.view(-1, 144)는 (48, 144) 모양으로 바꿔준답니다. -1은 나머지 숫자를 자동으로 채워주는 역할이에요\n",
        "\n",
        "        # print(\"view 이후 x의 모양: \", x.shape)\n",
        "        \n",
        "        ########################################################\n",
        "        x = self.fc(x)\n",
        "\n",
        "        return x\n",
        "    \n",
        "\n",
        "net = Net()"
      ],
      "execution_count": 30,
      "outputs": []
    },
    {
      "cell_type": "markdown",
      "metadata": {
        "id": "zUzZVa_nfY41"
      },
      "source": [
        "# 딥러닝 모델을 학습시키기 위해 준비되어야 할 4가지 요소\n",
        "\n",
        "1. 데이터\n",
        "2. 모델\n",
        "\n",
        "**3. Loss function (손실함수, 목적함수, objective function 등으로 불려요)**: 정답과 모델의 예측값을 어떤 식으로 비교할지 결정해주는 함수\n",
        "\n",
        "**4. Optimizer**: gradient descent를 해줄 애. 즉, 모델의 파라미터를 어느 방향으로 조금 수정할지 결정하고 수정해주는 함수"
      ]
    },
    {
      "cell_type": "markdown",
      "metadata": {
        "id": "HNshtG4UfY41"
      },
      "source": [
        "## Loss function과 Optimizer 정의하기\n",
        "\n",
        "Cross-entropy loss function과 SGD optimizer를 씁니다.\n"
      ]
    },
    {
      "cell_type": "code",
      "metadata": {
        "id": "E7eAT5FwfY41"
      },
      "source": [
        "import torch.optim as optim\n",
        "\n",
        "criterion = nn.CrossEntropyLoss()\n",
        "optimizer = optim.SGD(net.parameters(), lr=0.001, momentum=0.9)"
      ],
      "execution_count": 31,
      "outputs": []
    },
    {
      "cell_type": "markdown",
      "metadata": {
        "id": "Yea6DxfBfY41"
      },
      "source": [
        "## 모델 학습시키기\n",
        "\n",
        "이제\n",
        "* data loader\n",
        "* model\n",
        "* loss function\n",
        "* optimizer\n",
        "\n",
        "이 4가지가 모두 준비되었으니 학습을 할 준비가 끝났습니다.\n",
        "\n",
        "```\n",
        "종료 조건 만족할 때까지 아래를 반복:\n",
        "    1. 우리의 data loader로부터 데이터를 받아와서 모델에 넣어주고\n",
        "    2. 모델의 출력 값을 받아서 \n",
        "    3. loss function 값을 계산하고\n",
        "    4. 그 loss를 바탕으로 backprop(=gradient를 계산) 해준 뒤 \n",
        "    5. optimizer가 gradient descent를 1 step 진행합니다.\n",
        "    ```"
      ]
    },
    {
      "cell_type": "code",
      "metadata": {
        "id": "4e_ds06CfY41"
      },
      "source": [
        "loss_history = []  # 우리 모델이 어떻게 학습되는지, loss가 잘 떨어지는지 확인하기 위해 매 step loss를 저장해놓을 배열"
      ],
      "execution_count": 32,
      "outputs": []
    },
    {
      "cell_type": "code",
      "metadata": {
        "id": "ejDjkad_fY42",
        "colab": {
          "base_uri": "https://localhost:8080/"
        },
        "outputId": "411dcd7e-a1e4-4ce6-e2e4-8948af3f929b"
      },
      "source": [
        "for epoch in range(2):  # 전체 데이터셋을 몇 번 반복할 건지\n",
        "\n",
        "    running_loss = 0.0\n",
        "    for i, data in enumerate(train_loader, 0):\n",
        "        # data에는 이미지와 정답 라벨이 들어있죠?\n",
        "        inputs, labels = data\n",
        "        \n",
        "        # Batch_dim, Channel_dim, Height, Width: BCHW라고 줄여서 말하기도 합니다. 또는 NCHW\n",
        "        # inputs의 모양은 (16, 1, 28, 28)일 거예요. batch_size 16개, channel 1개, height, width 각 28.\n",
        "        # 흔히 이걸 batch_first 형태라고 해요.\n",
        "        \n",
        "        # 매 반복마다 이전 gradient를 한 번 지워줍니다.\n",
        "        optimizer.zero_grad()\n",
        "\n",
        "        # 모델에 데이터 넣어서 forward 해주고 \n",
        "        # backprop(=backward)으로 이번 input에 대해 gradient를 계산해주고\n",
        "        # optimizer가 gradient descent 1스텝 진행\n",
        "        outputs = net(inputs)\n",
        "        loss = criterion(outputs, labels)\n",
        "        loss.backward()\n",
        "        optimizer.step()\n",
        "        \n",
        "        # 결과치 화면에 뿌려주기\n",
        "        running_loss += loss.item()\n",
        "        if i % 300 == 299:    \n",
        "            \n",
        "            # 300 미니배치마다 트레이닝셋에 대한 loss값 출력\n",
        "            print('[%d, %5d] loss: %.3f' %\n",
        "                  (epoch + 1, i + 1, running_loss / 300))\n",
        "            \n",
        "            # 나중에 시각화를 위해 중간중간 따로 loss값 저장\n",
        "            loss_history.append(running_loss / 300)\n",
        "            running_loss = 0.0\n",
        "            \n",
        "print('학습 끝!')"
      ],
      "execution_count": 33,
      "outputs": [
        {
          "output_type": "stream",
          "name": "stdout",
          "text": [
            "[1,   300] loss: 1.523\n",
            "[1,   600] loss: 0.832\n",
            "[1,   900] loss: 0.748\n",
            "[1,  1200] loss: 0.718\n",
            "[1,  1500] loss: 0.756\n",
            "[1,  1800] loss: 0.725\n",
            "[1,  2100] loss: 0.694\n",
            "[1,  2400] loss: 0.686\n",
            "[1,  2700] loss: 0.685\n",
            "[1,  3000] loss: 0.665\n",
            "[2,   300] loss: 0.635\n",
            "[2,   600] loss: 0.668\n",
            "[2,   900] loss: 0.663\n",
            "[2,  1200] loss: 0.638\n",
            "[2,  1500] loss: 0.654\n",
            "[2,  1800] loss: 0.646\n",
            "[2,  2100] loss: 0.627\n",
            "[2,  2400] loss: 0.612\n",
            "[2,  2700] loss: 0.653\n",
            "[2,  3000] loss: 0.604\n",
            "학습 끝!\n"
          ]
        }
      ]
    },
    {
      "cell_type": "markdown",
      "metadata": {
        "id": "2lcf8wmwfY42"
      },
      "source": [
        "### 학습 경과 살펴보기"
      ]
    },
    {
      "cell_type": "markdown",
      "metadata": {
        "id": "_NkLSlzKfY42"
      },
      "source": [
        "사실 저렇게 출력된 숫자들만 보면 감이 잘 오지 않는 거 같아요 그쵸?<br/>\n",
        "그래서 그래프로 트레이닝셋에 대해 loss가 잘 떨어지는지 살펴보는 게 필요해요<br/>\n",
        "우리가 방금 위에서 정의한 loss_history 배열에는 학습 중간중간 저장해놓았던 트레이닝셋에 대한 loss 값들이 있어요. <br/>\n",
        "얘를 시각화 해볼게요"
      ]
    },
    {
      "cell_type": "code",
      "metadata": {
        "id": "8uJEhHq_fY42",
        "colab": {
          "base_uri": "https://localhost:8080/",
          "height": 305
        },
        "outputId": "7fbb3ca8-b6a9-4eab-859b-23de5a735d5a"
      },
      "source": [
        "plt.plot(loss_history) \n",
        "plt.title('Training Loss', fontsize=20)  # 여기에 한글을 넣고 싶으시다구요? 그럼 좀 귀찮은 몇 가지 작업들을 해야 합니다... 그러므로 패스\n",
        "plt.xlabel('Iteration',fontsize=16)\n",
        "plt.ylabel('Loss',fontsize=16)\n",
        "plt.show()"
      ],
      "execution_count": 34,
      "outputs": [
        {
          "output_type": "display_data",
          "data": {
            "image/png": "[encoded data removed]",
            "text/plain": [
              "<Figure size 432x288 with 1 Axes>"
            ]
          },
          "metadata": {
            "needs_background": "light"
          }
        }
      ]
    },
    {
      "cell_type": "markdown",
      "metadata": {
        "id": "I8MoehQHfY42"
      },
      "source": [
        "## 모델 저장하기\n",
        "\n",
        "학습이 끝난 모델의 파라미터를 저장해두면 나중에 필요할 때 불러와서 가져다 쓰면 바로 사용할 수 있어요."
      ]
    },
    {
      "cell_type": "code",
      "metadata": {
        "id": "hT58YJAzfY43"
      },
      "source": [
        "PATH = './notmnist_net.pth'\n",
        "torch.save(net.state_dict(), PATH)"
      ],
      "execution_count": 35,
      "outputs": []
    },
    {
      "cell_type": "markdown",
      "metadata": {
        "id": "1NequyxKfY43"
      },
      "source": [
        "## 테스트셋에 검증해보기\n",
        "\n",
        "이제 모델 학습이 끝났으니 테스트 데이터에도 잘하는지 확인을 해봐야 합니다. <br/>\n",
        "테스트셋 데이터 중 몇 개나 맞히는지 알아볼까요?"
      ]
    },
    {
      "cell_type": "code",
      "metadata": {
        "id": "QgPTrcMDfY43",
        "colab": {
          "base_uri": "https://localhost:8080/",
          "height": 137
        },
        "outputId": "da79bfb7-8377-4676-92ff-dd8c86a54805"
      },
      "source": [
        "# 테스트셋 이미지 예시도 심심풀이로 한 번 확인해보기\n",
        "# functions to show an image\n",
        "def imshow(img):\n",
        "    img = img + 0.5     # 아까 앞에서 normalize해줘서 색깔 이미지가 이상해져있을 거기 때문에 보기 편하라고 다시 unnormalize해줍니다\n",
        "    npimg = img.numpy()\n",
        "    plt.imshow(np.transpose(npimg, (1, 2, 0)))\n",
        "    plt.show()\n",
        "\n",
        "dataiter = iter(test_loader)\n",
        "images, labels = dataiter.next()\n",
        "\n",
        "imshow(torchvision.utils.make_grid(images))"
      ],
      "execution_count": 36,
      "outputs": [
        {
          "output_type": "display_data",
          "data": {
            "image/png": "[encoded data removed]",
            "text/plain": [
              "<Figure size 432x288 with 1 Axes>"
            ]
          },
          "metadata": {
            "needs_background": "light"
          }
        }
      ]
    },
    {
      "cell_type": "markdown",
      "metadata": {
        "id": "_ZuNisUrfY44"
      },
      "source": [
        "### 아까 저장해뒀던 모델 파라미터 불러오기\n",
        "\n",
        "사실 굳이 불러오지 않고 그냥 위에 있는 `net` 그대로 써도 되지만 <br/>\n",
        "일단 어떻게 저장하고 불러오는지 여러분이 알아둬야 하니까 여기서는 `net`에 굳이 다시 불러와봤어요"
      ]
    },
    {
      "cell_type": "code",
      "metadata": {
        "id": "zzglGUQvfY44",
        "colab": {
          "base_uri": "https://localhost:8080/"
        },
        "outputId": "b041a141-947f-4c15-b165-8d7265bb1126"
      },
      "source": [
        "net = Net()\n",
        "net.load_state_dict(torch.load(PATH))"
      ],
      "execution_count": 37,
      "outputs": [
        {
          "output_type": "execute_result",
          "data": {
            "text/plain": [
              "<All keys matched successfully>"
            ]
          },
          "metadata": {},
          "execution_count": 37
        }
      ]
    },
    {
      "cell_type": "markdown",
      "metadata": {
        "id": "-PJbbRcOfY44"
      },
      "source": [
        "### 불러온 모델로 예측해보기\n",
        "\n",
        "이미지들을 넣었을 때 모델이 뭐라고 예측하는지 한 번 확인해볼게요."
      ]
    },
    {
      "cell_type": "code",
      "metadata": {
        "id": "hNLBrtYwfY45",
        "colab": {
          "base_uri": "https://localhost:8080/"
        },
        "outputId": "e0ba2ccf-6c91-47ab-8fa3-e86c90b54dcd"
      },
      "source": [
        "outputs = net(images)\n",
        "outputs"
      ],
      "execution_count": 38,
      "outputs": [
        {
          "output_type": "execute_result",
          "data": {
            "text/plain": [
              "tensor([[-1.6747, -2.0119, -0.7459, -0.7808, -0.1141, -2.3958,  0.1460,  0.7146,\n",
              "          2.0762,  4.1187],\n",
              "        [ 0.1505, -0.7912, -2.5354, -1.5258,  0.0780,  4.0605, -0.2849,  1.6777,\n",
              "          0.4266, -2.5523],\n",
              "        [-0.4263, -3.0427,  2.1745, -2.1511,  1.6730, -2.2032,  7.4937, -2.4329,\n",
              "          0.0438, -0.3810],\n",
              "        [-1.5295, -0.0376, -0.0155, -1.1104,  0.3843,  0.3537, -2.1136, -0.8770,\n",
              "          4.2623,  1.3313],\n",
              "        [ 1.7931, -0.1159, -1.2337,  1.6499, -1.1781, -2.9758,  0.2501,  2.8186,\n",
              "         -1.2961, -0.9961],\n",
              "        [ 6.9674, -0.1217, -3.5618, -1.4170, -0.0442, -4.0261, -0.4216,  0.5922,\n",
              "          0.8608, -0.6442],\n",
              "        [-0.3954, -0.7484, -0.6170, -0.2991, -0.0531, -1.7392, -0.2182,  0.0689,\n",
              "          4.2615,  0.5785],\n",
              "        [-2.0580,  0.5225, -0.4786,  0.7855, -0.2553, -0.8151,  1.7026,  0.4390,\n",
              "          1.4649, -1.6856],\n",
              "        [-0.9855, -5.2054,  8.7771, -4.4562,  5.5556, -2.3203,  3.8946, -2.1799,\n",
              "          2.3926, -3.9072],\n",
              "        [ 0.3791,  1.2322, -2.9646, -0.6735,  1.0721, -1.2599, -0.7568,  5.1346,\n",
              "          0.6001, -2.8560],\n",
              "        [-1.0010,  6.1799, -2.5391,  1.2795, -0.0616, -0.8657,  0.1669,  0.6424,\n",
              "         -1.5169, -3.4318],\n",
              "        [ 0.2148, -0.9872, -1.0896, -2.4348,  0.5794,  1.6077, -3.5466, -1.0655,\n",
              "          4.5763,  1.3097],\n",
              "        [-1.9567,  0.4175,  0.6777, -0.3879,  0.4033, -0.6036,  0.0975, -0.9787,\n",
              "          3.6461, -0.3587],\n",
              "        [-0.6642, -0.3835,  0.7581, -0.9295,  0.8068, -0.8534,  7.0767, -2.8409,\n",
              "         -1.2479, -1.2715],\n",
              "        [-0.3732,  1.2349, -2.5273,  5.4610, -1.6947, -1.9693, -1.4832, -1.3727,\n",
              "         -0.2289, -0.4747],\n",
              "        [-2.5600, -0.6958, -0.2313, -1.3933,  1.4284,  0.4031, -1.7963, -4.2099,\n",
              "          5.6029,  3.5071]], grad_fn=<AddmmBackward>)"
            ]
          },
          "metadata": {},
          "execution_count": 38
        }
      ]
    },
    {
      "cell_type": "markdown",
      "metadata": {
        "id": "UuiLvrCufY45"
      },
      "source": [
        "뭔지 전혀 모르겠죠? <br/>\n",
        "각 row에 있는 숫자들은 10개의 클래스에 대한 logit 값이에요. (확률 값이 아니라) <br/>\n",
        "어떤 인덱스의 logit값이 크면 모델은 그 해당 인덱스의 클래스로 해당 이미지를 분류한다는 의미입니다. <br/>\n",
        "따라서 그냥 이 logit 값들 중 제일 큰 logit이 있는 index를 각 row마다 뽑아오면 됩니다. <br/>"
      ]
    },
    {
      "cell_type": "code",
      "metadata": {
        "id": "DApBpYgZfY45",
        "colab": {
          "base_uri": "https://localhost:8080/"
        },
        "outputId": "2710e7ec-2056-469b-947b-b5d9a2fe2029"
      },
      "source": [
        "_, predicted = torch.max(outputs, 1)  # 1번째 차원(=각 row)에서 각각 max인 값과 해당 index를 뽑아옵니다.\n",
        "\n",
        "classes = ['A', 'B', 'C', 'D', 'E', 'F','G', 'H', 'I', 'J']\n",
        "\n",
        "print('모델 예측: ', ' '.join('%5s' % classes[predicted[j]]\n",
        "                              for j in range(8)))"
      ],
      "execution_count": 39,
      "outputs": [
        {
          "output_type": "stream",
          "name": "stdout",
          "text": [
            "모델 예측:      J     F     G     I     H     A     I     G\n"
          ]
        }
      ]
    },
    {
      "cell_type": "markdown",
      "metadata": {
        "id": "VrBjEQYbfY45"
      },
      "source": [
        "#### 역시 원래 이미지랑 같이 봐야 감이 올 거 같죠?"
      ]
    },
    {
      "cell_type": "code",
      "metadata": {
        "id": "w5RtZToqfY45",
        "colab": {
          "base_uri": "https://localhost:8080/",
          "height": 131
        },
        "outputId": "62b26d56-1a54-4b3c-95b0-e3112f0a1d8a"
      },
      "source": [
        "imshow(torchvision.utils.make_grid(images[:8]))\n",
        "print('실제 정답: ', ' '.join('%5s' % classes[labels[j]] for j in range(8)))\n",
        "print('모델 예측: ', ' '.join('%5s' % classes[predicted[j]]\n",
        "                              for j in range(8)))"
      ],
      "execution_count": 40,
      "outputs": [
        {
          "output_type": "display_data",
          "data": {
            "image/png": "[encoded data removed]",
            "text/plain": [
              "<Figure size 432x288 with 1 Axes>"
            ]
          },
          "metadata": {
            "needs_background": "light"
          }
        },
        {
          "output_type": "stream",
          "name": "stdout",
          "text": [
            "실제 정답:      J     F     G     I     H     A     I     C\n",
            "모델 예측:      J     F     G     I     H     A     I     G\n"
          ]
        }
      ]
    },
    {
      "cell_type": "markdown",
      "metadata": {
        "id": "3Tqm3dCFfY5A"
      },
      "source": [
        "매우 잘 맞히는 거 같습니다! <br/>\n",
        "그러면 이제 전체 테스트셋에 대해 정답과 비교해서 몇 개나 맞히는지 보겠습니다. "
      ]
    },
    {
      "cell_type": "markdown",
      "metadata": {
        "id": "PCTomGf1fY5B"
      },
      "source": [
        "### 테스트셋 정답률 확인해보기"
      ]
    },
    {
      "cell_type": "code",
      "metadata": {
        "id": "seUhEL3yfY5B",
        "colab": {
          "base_uri": "https://localhost:8080/"
        },
        "outputId": "7fe8db87-8843-4c92-bcc1-dd133cd97874"
      },
      "source": [
        "correct = 0\n",
        "total = 0\n",
        "with torch.no_grad():\n",
        "    for data in test_loader:\n",
        "        images, labels = data\n",
        "        outputs = net(images)\n",
        "        _, predicted = torch.max(outputs.data, 1)\n",
        "        total += labels.size(0)\n",
        "        correct += (predicted == labels).sum().item()\n",
        "\n",
        "print('10000개의 테스트 이미지에 대한 정답률: %d %%' % (\n",
        "    100 * correct / total))"
      ],
      "execution_count": 41,
      "outputs": [
        {
          "output_type": "stream",
          "name": "stdout",
          "text": [
            "10000개의 테스트 이미지에 대한 정답률: 90 %\n"
          ]
        }
      ]
    },
    {
      "cell_type": "markdown",
      "metadata": {
        "id": "1Ze7jY6EfY5B"
      },
      "source": [
        "### 각 클래스 별 정답률 확인해보기"
      ]
    },
    {
      "cell_type": "code",
      "metadata": {
        "id": "fP267r9gfY5B",
        "colab": {
          "base_uri": "https://localhost:8080/"
        },
        "outputId": "51eacdfe-73a5-43d4-de3e-0b0c3bb28aa6"
      },
      "source": [
        "class_correct = list(0. for i in range(10))\n",
        "class_total = list(0. for i in range(10))\n",
        "\n",
        "with torch.no_grad():  # 매우매우 중요! 테스트셋으로 학습하는 건 반칙입니다. 테스트셋으로 backprop을 하면 안 되지요.\n",
        "    for data in test_loader:\n",
        "        images, labels = data\n",
        "        outputs = net(images)\n",
        "        _, predicted = torch.max(outputs, 1)\n",
        "        c = (predicted == labels).squeeze()\n",
        "        for i in range(4):\n",
        "            label = labels[i]\n",
        "            class_correct[label] += c[i].item()\n",
        "            class_total[label] += 1\n",
        "\n",
        "for i in range(10):\n",
        "    print('%5s 클래스의 정답률 : %2d %%' % (\n",
        "        classes[i], 100 * class_correct[i] / class_total[i]))"
      ],
      "execution_count": 42,
      "outputs": [
        {
          "output_type": "stream",
          "name": "stdout",
          "text": [
            "    A 클래스의 정답률 : 86 %\n",
            "    B 클래스의 정답률 : 93 %\n",
            "    C 클래스의 정답률 : 93 %\n",
            "    D 클래스의 정답률 : 94 %\n",
            "    E 클래스의 정답률 : 88 %\n",
            "    F 클래스의 정답률 : 92 %\n",
            "    G 클래스의 정답률 : 90 %\n",
            "    H 클래스의 정답률 : 90 %\n",
            "    I 클래스의 정답률 : 87 %\n",
            "    J 클래스의 정답률 : 93 %\n"
          ]
        }
      ]
    },
    {
      "cell_type": "markdown",
      "metadata": {
        "id": "8lboThQefY5C"
      },
      "source": [
        "# 딥러닝 끝!"
      ]
    }
  ]
}