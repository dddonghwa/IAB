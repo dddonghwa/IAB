{
  "nbformat": 4,
  "nbformat_minor": 0,
  "metadata": {
    "colab": {
      "name": "Logistic_Regression_and_Neural_Network_with_Scikit-Learn_Distribution.ipynb",
      "provenance": [],
      "collapsed_sections": [
        "KubnO2egumeN",
        "6jCc3nd2uTpB",
        "DOtAaDjbuTpD",
        "KmBMZFuKuTpE",
        "WCiuG6zruTpF"
      ],
      "include_colab_link": true
    },
    "kernelspec": {
      "display_name": "Python 3",
      "language": "python",
      "name": "python3"
    },
    "language_info": {
      "codemirror_mode": {
        "name": "ipython",
        "version": 3
      },
      "file_extension": ".py",
      "mimetype": "text/x-python",
      "name": "python",
      "nbconvert_exporter": "python",
      "pygments_lexer": "ipython3",
      "version": "3.8.8"
    }
  },
  "cells": [
    {
      "cell_type": "markdown",
      "metadata": {
        "id": "view-in-github",
        "colab_type": "text"
      },
      "source": [
        "<a href=\"https://colab.research.google.com/github/dddonghwa/IAB/blob/main/Logistic_Regression_and_Neural_Network_with_Scikit_Learn_Distribution.ipynb\" target=\"_parent\"><img src=\"https://colab.research.google.com/assets/colab-badge.svg\" alt=\"Open In Colab\"/></a>"
      ]
    },
    {
      "cell_type": "markdown",
      "metadata": {
        "id": "qnKXszGIuTo7"
      },
      "source": [
        "# IoT·인공지능·빅데이터 개론 및 실습 (2021년도, 2학기, M2177.004900_001)\n"
      ]
    },
    {
      "cell_type": "markdown",
      "metadata": {
        "id": "KubnO2egumeN"
      },
      "source": [
        "##9/10 Logistic Regerssion & Neural Network with Scikit-Learn\n",
        "\n",
        "Adapted by Seonwoo Min from the \"An Introduction to Machine Learning with Scikit-learn\" tutorial (http://scikit-learn.org/stable/tutorial/basic/tutorial.html).\n",
        "\n",
        "In this excercise, we will cover:\n",
        "\n",
        "* Loading an example dataset & preprocessing\n",
        "* Logistic regression & neural network models in scikit-learn\n",
        "* Model training & prediction & evaluation\n",
        "* Model save & load\n",
        "* Homework"
      ]
    },
    {
      "cell_type": "markdown",
      "metadata": {
        "id": "6jCc3nd2uTpB"
      },
      "source": [
        "## 1. Loading an example dataset & preprocessing"
      ]
    },
    {
      "cell_type": "code",
      "metadata": {
        "id": "oXR0qyJ-uTpC",
        "colab": {
          "base_uri": "https://localhost:8080/"
        },
        "outputId": "fce91b63-b3ed-4ee9-dd4f-f866af6ee9dc"
      },
      "source": [
        "from sklearn.datasets import load_digits\n",
        "data = load_digits()\n",
        "print(data.keys())"
      ],
      "execution_count": null,
      "outputs": [
        {
          "output_type": "stream",
          "name": "stdout",
          "text": [
            "dict_keys(['data', 'target', 'target_names', 'images', 'DESCR'])\n"
          ]
        }
      ]
    },
    {
      "cell_type": "code",
      "metadata": {
        "id": "5FfgysTkuTpC",
        "colab": {
          "base_uri": "https://localhost:8080/"
        },
        "outputId": "0faf96ba-c52c-47dd-8585-b24295a2adf3"
      },
      "source": [
        "# Data shape & statistics\n",
        "print(\"Data: \", data['data'].shape)\n",
        "print(\"Label:\", data['target'].shape)\n",
        "\n",
        "# Print the number of samples for each class\n",
        "import numpy as np\n",
        "#################### To Do #################################\n",
        "\n",
        "############################################################"
      ],
      "execution_count": null,
      "outputs": [
        {
          "output_type": "stream",
          "name": "stdout",
          "text": [
            "Data:  (1797, 64)\n",
            "Label: (1797,)\n"
          ]
        }
      ]
    },
    {
      "cell_type": "code",
      "metadata": {
        "id": "oG1dHr4CuTpC"
      },
      "source": [
        "#############################################################\n",
        "# Data Visaulization\n",
        "#############################################################\n",
        "import matplotlib.pyplot as plt\n",
        "%matplotlib inline\n",
        "\n",
        "#################### To Do #################################\n",
        "# Hint: plt.imshow(data['data'][i].reshape(8,8), cmap=plt.cm.gray_r)\n",
        "\n",
        "############################################################"
      ],
      "execution_count": null,
      "outputs": []
    },
    {
      "cell_type": "code",
      "metadata": {
        "id": "5aeX7JqhuTpD"
      },
      "source": [
        "#############################################################\n",
        "# 1st Preprocessing\n",
        "# Use the first 20 samples in each clss as test data\n",
        "# Use the others as training data\n",
        "#############################################################\n",
        "\n",
        "#################### To Do #################################\n",
        "\n",
        "############################################################\n",
        "\n",
        "print(test_data.shape)\n",
        "print(train_data.shape)"
      ],
      "execution_count": null,
      "outputs": []
    },
    {
      "cell_type": "code",
      "metadata": {
        "id": "Ie567PVduTpD"
      },
      "source": [
        "#############################################################\n",
        "# 2nd Preprocessing\n",
        "# Let's use only 2 and 3 for binary classification\n",
        "#############################################################\n",
        "\n",
        "#################### To Do #################################\n",
        "\n",
        "############################################################\n",
        "\n",
        "print(test_data23.shape)\n",
        "print(train_data23.shape)"
      ],
      "execution_count": null,
      "outputs": []
    },
    {
      "cell_type": "markdown",
      "metadata": {
        "id": "DOtAaDjbuTpD"
      },
      "source": [
        "## 2. Logistic regression & neural network models in scikit-learn\n",
        "\n",
        "For full documentations refer to the following links: <br>\n",
        "Logistic Regression: http://scikit-learn.org/stable/modules/generated/sklearn.linear_model.LogisticRegression.html <br>\n",
        "Neural network: http://scikit-learn.org/stable/modules/generated/sklearn.neural_network.MLPClassifier.html#sklearn.neural_network.MLPClassifier"
      ]
    },
    {
      "cell_type": "code",
      "metadata": {
        "id": "6Ci9vgU5uTpE"
      },
      "source": [
        "from sklearn.linear_model import LogisticRegression\n",
        "from sklearn.neural_network import MLPClassifier\n",
        "\n",
        "LR = LogisticRegression(max_iter=1000, solver='sag')\n",
        "NN = MLPClassifier(hidden_layer_sizes=(10), activation='relu', learning_rate_init=0.01, max_iter=1000)"
      ],
      "execution_count": null,
      "outputs": []
    },
    {
      "cell_type": "markdown",
      "metadata": {
        "id": "KmBMZFuKuTpE"
      },
      "source": [
        "## 3. Model training & prediction & evaluation"
      ]
    },
    {
      "cell_type": "code",
      "metadata": {
        "id": "Etwr4biEuTpE"
      },
      "source": [
        "#############################################################\n",
        "# Logistic regression model\n",
        "#############################################################\n",
        "# Training\n",
        "LR = LogisticRegression(max_iter=1, solver='sag')\n",
        "LR.fit(train_data23, train_target23)\n",
        "\n",
        "# Prediction\n",
        "train_predict23 = LR.predict(train_data23)\n",
        "test_predict23 = LR.predict(test_data23)\n",
        "print(\"test_target     :\", test_target23)\n",
        "print(\"test_prediction :\", test_predict23)\n",
        "\n",
        "#################### To Do #################################\n",
        "\n",
        "############################################################\n",
        "\n",
        "print(\"train_acc :\", train_acc23)\n",
        "print(\"test_acc  :\", test_acc23)"
      ],
      "execution_count": null,
      "outputs": []
    },
    {
      "cell_type": "code",
      "metadata": {
        "id": "a6DMzuxRuTpF"
      },
      "source": [
        "#############################################################\n",
        "# Neural network model\n",
        "#############################################################\n",
        "\n",
        "#################### To Do #################################\n",
        "\n",
        "############################################################"
      ],
      "execution_count": null,
      "outputs": []
    },
    {
      "cell_type": "markdown",
      "metadata": {
        "id": "WCiuG6zruTpF"
      },
      "source": [
        "## 4. Model save & load"
      ]
    },
    {
      "cell_type": "code",
      "metadata": {
        "id": "OGiSsaIKuTpF"
      },
      "source": [
        "# from sklearn.externals import joblib\n",
        "import joblib\n",
        "import os\n",
        "\n",
        "if not os.path.exists('models'):\n",
        "    os.makedirs('models')\n",
        "    \n",
        "# save\n",
        "joblib.dump(NN, 'models/NN23.joblib') \n",
        "\n",
        "# load\n",
        "NN_load = joblib.load('models/NN23.joblib') \n",
        "\n",
        "#################### To Do #################################\n",
        "\n",
        "############################################################"
      ],
      "execution_count": null,
      "outputs": []
    },
    {
      "cell_type": "markdown",
      "metadata": {
        "id": "RMb5E4hMuTpF"
      },
      "source": [
        "## 5. Homework\n",
        "Now it's your job to experiment with models and achieve higher accuracy on the  **<font color=red>on the entire dataset</font>**. <br>\n",
        "Try different hyperparameter configurations and save the final model as \"final_model.joblib\" <br>\n",
        "Submit the current **notebook file and the saved final model** on ETL.\n",
        "* Maximum 10 points for >= 97% accuracy on the test set\n",
        "* Maximum 8 points for >= 96% accuracy on the test set\n",
        "* Maximum 6 points for >= 95% accuracy on the test set\n",
        "* Maximum 4 points for >= 94% accuracy on the test set"
      ]
    },
    {
      "cell_type": "markdown",
      "metadata": {
        "id": "RhmkBGLiSnlL"
      },
      "source": [
        "\n",
        "- activation{‘identity’, ‘logistic’, ‘tanh’, ‘relu’}, default=’relu’\n",
        "- solver{‘lbfgs’, ‘sgd’, ‘adam’}, default=’adam’\n",
        "- alphafloat, default=0.0001\n",
        "- learning_rate{‘constant’, ‘invscaling’, ‘adaptive’}, default=’constant’\n",
        "- learning_rate_initdouble, default=0.001"
      ]
    },
    {
      "cell_type": "code",
      "metadata": {
        "id": "GpuG4WfLM4qH"
      },
      "source": [
        "import pandas as pd\n",
        "import numpy as np\n",
        "import matplotlib.pyplot as plt"
      ],
      "execution_count": 1,
      "outputs": []
    },
    {
      "cell_type": "code",
      "metadata": {
        "colab": {
          "base_uri": "https://localhost:8080/"
        },
        "id": "dbDqH-vAG0ok",
        "outputId": "8d619207-1ace-4b46-cf40-fc5ae4a957f6"
      },
      "source": [
        "from sklearn.datasets import load_digits\n",
        "from sklearn.model_selection import train_test_split\n",
        "from sklearn.preprocessing import MinMaxScaler\n",
        "from sklearn.neural_network import MLPClassifier\n",
        "\n",
        "digits = load_digits()\n",
        "\n",
        "X = digits.data\n",
        "y = digits.target\n",
        "\n",
        "scaler = MinMaxScaler()\n",
        "X_scaled = scaler.fit_transform(X)\n",
        "\n",
        "# X_train, X_test, y_train, y_test = train_test_split(X_scaled, y, stratify=y, random_state=0) # test_size = 0.25 (default)\n",
        "\n",
        "X_train = X_scaled[100:]\n",
        "X_test = X_scaled[:100]\n",
        "\n",
        "y_train = y[100:]\n",
        "y_test = y[:100]\n",
        "\n",
        "print(X_train.shape, y_train.shape)\n",
        "print(X_test.shape, y_test.shape)"
      ],
      "execution_count": 2,
      "outputs": [
        {
          "output_type": "stream",
          "name": "stdout",
          "text": [
            "(1697, 64) (1697,)\n",
            "(100, 64) (100,)\n"
          ]
        }
      ]
    },
    {
      "cell_type": "code",
      "metadata": {
        "colab": {
          "base_uri": "https://localhost:8080/"
        },
        "id": "ChKVSo8yTQgp",
        "outputId": "33417a19-ac1c-428c-d02c-ab73f220d412"
      },
      "source": [
        "NN = MLPClassifier(hidden_layer_sizes = (290,290), max_iter =50, activation = 'relu', solver = \"sgd\", learning_rate_init = 0.002, verbose = True)\n",
        "NN.fit(X_train, y_train)\n",
        "\n",
        "y_pred = NN.predict(X_test)\n",
        "# print(NN.score(X_train, y_train))\n",
        "print(NN.score(X_test, y_test))"
      ],
      "execution_count": null,
      "outputs": [
        {
          "output_type": "stream",
          "name": "stdout",
          "text": [
            "Iteration 1, loss = 2.19612343\n",
            "Iteration 2, loss = 0.40122214\n",
            "Iteration 3, loss = 0.21902548\n",
            "Iteration 4, loss = 0.16075385\n",
            "Iteration 5, loss = 0.12991599\n",
            "Iteration 6, loss = 0.11040538\n",
            "Iteration 7, loss = 0.09808304\n",
            "Iteration 8, loss = 0.08784378\n",
            "Iteration 9, loss = 0.08006660\n",
            "Iteration 10, loss = 0.07279190\n",
            "Iteration 11, loss = 0.06743604\n",
            "Iteration 12, loss = 0.06290540\n",
            "Iteration 13, loss = 0.05701459\n",
            "Iteration 14, loss = 0.05441161\n",
            "Iteration 15, loss = 0.05035862\n",
            "Iteration 16, loss = 0.04781658\n",
            "Iteration 17, loss = 0.04523015\n",
            "Iteration 18, loss = 0.04257979\n",
            "Iteration 19, loss = 0.04136128\n",
            "Iteration 20, loss = 0.03844021\n",
            "Iteration 21, loss = 0.03651569\n",
            "Iteration 22, loss = 0.03499218\n",
            "Iteration 23, loss = 0.03329643\n",
            "Iteration 24, loss = 0.03192894\n",
            "Iteration 25, loss = 0.03093171\n",
            "Iteration 26, loss = 0.02949070\n",
            "Iteration 27, loss = 0.02808571\n",
            "Iteration 28, loss = 0.02775768\n",
            "Iteration 29, loss = 0.02639878\n",
            "Iteration 30, loss = 0.02526616\n",
            "Iteration 31, loss = 0.02426235\n",
            "Iteration 32, loss = 0.02360919\n",
            "Iteration 33, loss = 0.02271143\n",
            "Iteration 34, loss = 0.02232948\n",
            "Iteration 35, loss = 0.02133953\n",
            "Iteration 36, loss = 0.02060018\n",
            "Iteration 37, loss = 0.02000357\n",
            "Iteration 38, loss = 0.01949694\n",
            "Iteration 39, loss = 0.01889589\n",
            "Iteration 40, loss = 0.01843258\n",
            "Iteration 41, loss = 0.01803286\n",
            "Iteration 42, loss = 0.01771588\n",
            "Iteration 43, loss = 0.01694215\n",
            "Iteration 44, loss = 0.01653645\n",
            "Iteration 45, loss = 0.01614706\n",
            "Iteration 46, loss = 0.01577418\n",
            "Iteration 47, loss = 0.01538333\n",
            "Iteration 48, loss = 0.01502056\n",
            "Iteration 49, loss = 0.01462582\n",
            "Iteration 50, loss = 0.01437337\n",
            "0.96\n"
          ]
        },
        {
          "output_type": "stream",
          "name": "stderr",
          "text": [
            "/usr/local/lib/python3.7/dist-packages/sklearn/neural_network/_multilayer_perceptron.py:571: ConvergenceWarning: Stochastic Optimizer: Maximum iterations (50) reached and the optimization hasn't converged yet.\n",
            "  % self.max_iter, ConvergenceWarning)\n"
          ]
        }
      ]
    },
    {
      "cell_type": "markdown",
      "metadata": {
        "id": "Z4OwdMe3ZX3_"
      },
      "source": [
        "(hidden_layer_sizes = (290,290), max_iter = 50, activation = 'relu', solver = \"sgd\", learning_rate_init = 0.005, verbose = True)"
      ]
    },
    {
      "cell_type": "code",
      "metadata": {
        "colab": {
          "base_uri": "https://localhost:8080/"
        },
        "id": "sexbqPILToJE",
        "outputId": "ab47829d-ed02-4b3b-a8ba-d8dfe2741033"
      },
      "source": [
        "import joblib\n",
        "import os\n",
        "\n",
        "if not os.path.exists('models'):\n",
        "    os.makedirs('models')\n",
        "    \n",
        "# save\n",
        "joblib.dump(NN, 'models/NN.joblib') "
      ],
      "execution_count": null,
      "outputs": [
        {
          "output_type": "execute_result",
          "data": {
            "text/plain": [
              "['models/NN.joblib']"
            ]
          },
          "metadata": {},
          "execution_count": 93
        }
      ]
    },
    {
      "cell_type": "markdown",
      "metadata": {
        "id": "ZPXwhBxraBGd"
      },
      "source": [
        "최적화 GridSearchCV"
      ]
    },
    {
      "cell_type": "code",
      "metadata": {
        "colab": {
          "base_uri": "https://localhost:8080/"
        },
        "id": "HZx8PmnfZ_YN",
        "outputId": "25d9aee0-1021-4eb0-b161-a004657e6be8"
      },
      "source": [
        "from sklearn.model_selection import GridSearchCV\n",
        "\n",
        "NN = MLPClassifier(activation='relu', solver='sgd', early_stopping=True, learning_rate_init=0.005)\n",
        "best_NN = GridSearchCV(NN, params, n_jobs=-1, cv=2)\n",
        "best_NN.fit(X_train, y_train)"
      ],
      "execution_count": null,
      "outputs": [
        {
          "output_type": "execute_result",
          "data": {
            "text/plain": [
              "GridSearchCV(cv=2, error_score=nan,\n",
              "             estimator=MLPClassifier(activation='relu', alpha=0.0001,\n",
              "                                     batch_size='auto', beta_1=0.9,\n",
              "                                     beta_2=0.999, early_stopping=True,\n",
              "                                     epsilon=1e-08, hidden_layer_sizes=(100,),\n",
              "                                     learning_rate='constant',\n",
              "                                     learning_rate_init=0.005, max_fun=15000,\n",
              "                                     max_iter=200, momentum=0.9,\n",
              "                                     n_iter_no_change=10,\n",
              "                                     nesterovs_momentum=True, power_t=0.5,\n",
              "                                     random_state=None, shuffle=True,\n",
              "                                     solver='sgd', tol=0.0001,\n",
              "                                     validation_fraction=0.1, verbose=False,\n",
              "                                     warm_start=False),\n",
              "             iid='deprecated', n_jobs=-1,\n",
              "             param_grid={'alpha': [0.0001, 5e-05, 1e-05],\n",
              "                         'hidden_layer_sizes': [(290, 290)]},\n",
              "             pre_dispatch='2*n_jobs', refit=True, return_train_score=False,\n",
              "             scoring=None, verbose=0)"
            ]
          },
          "metadata": {},
          "execution_count": 113
        }
      ]
    },
    {
      "cell_type": "code",
      "metadata": {
        "colab": {
          "base_uri": "https://localhost:8080/"
        },
        "id": "Cm0bQxGobhWL",
        "outputId": "e1d0522e-4816-4b40-a6fd-888b10b70cae"
      },
      "source": [
        "print(best_NN.best_params_)\n",
        "print(best_NN.score(X_test, y_test))"
      ],
      "execution_count": null,
      "outputs": [
        {
          "output_type": "stream",
          "name": "stdout",
          "text": [
            "{'alpha': 5e-05, 'hidden_layer_sizes': (290, 290)}\n",
            "0.94\n"
          ]
        }
      ]
    },
    {
      "cell_type": "code",
      "metadata": {
        "id": "0NA25EGYuTpG"
      },
      "source": [
        "#############################################################\n",
        "# Try different hyperparameters\n",
        "# Final model training\n",
        "#############################################################\n",
        "\n",
        "#################### To Do #################################\n",
        "\n",
        "############################################################"
      ],
      "execution_count": null,
      "outputs": []
    },
    {
      "cell_type": "code",
      "metadata": {
        "id": "rQud1OhYuTpG"
      },
      "source": [
        "#############################################################\n",
        "# Final model test\n",
        "# Load the final model and obatin the test accuracy\n",
        "#############################################################\n",
        "\n",
        "#################### To Do #################################\n",
        "\n",
        "############################################################"
      ],
      "execution_count": null,
      "outputs": []
    },
    {
      "cell_type": "markdown",
      "metadata": {
        "id": "H-8CmzNhuTpG"
      },
      "source": [
        "\n",
        "### Describe what you did here\n",
        "In this cell you should also write an explanation of what you did, any additional features that you implemented, and any visualizations or graphs that you make in the process of training and evaluating your model.\n",
        "* Maximum 10 points"
      ]
    },
    {
      "cell_type": "markdown",
      "metadata": {
        "id": "a0NbdXqzx47b"
      },
      "source": [
        "작성자 학번, 성함 (**반드시 작성해주세요**)\n",
        "\n",
        "학번: \n",
        "\n",
        "이름: "
      ]
    },
    {
      "cell_type": "markdown",
      "metadata": {
        "id": "6R7BMd5YuTpG"
      },
      "source": [
        "_Tell us here_"
      ]
    },
    {
      "cell_type": "code",
      "metadata": {
        "id": "pb4LhGVWTnKl"
      },
      "source": [
        ""
      ],
      "execution_count": null,
      "outputs": []
    }
  ]
}