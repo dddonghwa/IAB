{
 "cells": [
  {
   "cell_type": "markdown",
   "metadata": {
    "id": "qnKXszGIuTo7"
   },
   "source": [
    "# IoT·인공지능·빅데이터 개론 및 실습 (2021년도, 2학기, M2177.004900_001)\n"
   ]
  },
  {
   "cell_type": "markdown",
   "metadata": {
    "id": "KubnO2egumeN"
   },
   "source": [
    "##9/10 Logistic Regerssion & Neural Network with Scikit-Learn\n",
    "\n",
    "Adapted by Seonwoo Min from the \"An Introduction to Machine Learning with Scikit-learn\" tutorial (http://scikit-learn.org/stable/tutorial/basic/tutorial.html).\n",
    "\n",
    "In this excercise, we will cover:\n",
    "\n",
    "* Loading an example dataset & preprocessing\n",
    "* Logistic regression & neural network models in scikit-learn\n",
    "* Model training & prediction & evaluation\n",
    "* Model save & load\n",
    "* Homework"
   ]
  },
  {
   "cell_type": "markdown",
   "metadata": {
    "id": "6jCc3nd2uTpB"
   },
   "source": [
    "## 1. Loading an example dataset & preprocessing"
   ]
  },
  {
   "cell_type": "code",
   "execution_count": 23,
   "metadata": {
    "id": "oXR0qyJ-uTpC"
   },
   "outputs": [
    {
     "name": "stdout",
     "output_type": "stream",
     "text": [
      "dict_keys(['data', 'target', 'frame', 'feature_names', 'target_names', 'images', 'DESCR'])\n"
     ]
    }
   ],
   "source": [
    "from sklearn.datasets import load_digits\n",
    "data = load_digits()\n",
    "print(data.keys())"
   ]
  },
  {
   "cell_type": "code",
   "execution_count": 2,
   "metadata": {
    "id": "5FfgysTkuTpC"
   },
   "outputs": [
    {
     "name": "stdout",
     "output_type": "stream",
     "text": [
      "Data:  (1797, 64)\n",
      "Label: (1797,)\n",
      "[0 1 2 3 4 5 6 7 8 9] [178 182 177 183 181 182 181 179 174 180]\n"
     ]
    },
    {
     "data": {
      "text/plain": [
       "<BarContainer object of 10 artists>"
      ]
     },
     "execution_count": 2,
     "metadata": {},
     "output_type": "execute_result"
    },
    {
     "data": {
      "image/png": "[encoded data removed]",
      "text/plain": [
       "<Figure size 432x288 with 1 Axes>"
      ]
     },
     "metadata": {
      "needs_background": "light"
     },
     "output_type": "display_data"
    }
   ],
   "source": [
    "# Data shape & statistics\n",
    "print(\"Data: \", data['data'].shape)\n",
    "print(\"Label:\", data['target'].shape)\n",
    "\n",
    "# Print the number of samples for each class\n",
    "import numpy as np\n",
    "import matplotlib.pyplot as plt\n",
    "#################### To Do #################################\n",
    "vals, cnt = np.unique(data['target'], return_counts=True)\n",
    "print(vals, cnt)\n",
    "plt.bar(vals, cnt)\n",
    "############################################################"
   ]
  },
  {
   "cell_type": "code",
   "execution_count": 3,
   "metadata": {
    "id": "oG1dHr4CuTpC"
   },
   "outputs": [
    {
     "data": {
      "image/png": "[encoded data removed]",
      "text/plain": [
       "<Figure size 864x360 with 10 Axes>"
      ]
     },
     "metadata": {
      "needs_background": "light"
     },
     "output_type": "display_data"
    }
   ],
   "source": [
    "#############################################################\n",
    "# Data Visaulization\n",
    "#############################################################\n",
    "import matplotlib.pyplot as plt\n",
    "%matplotlib inline\n",
    "\n",
    "#################### To Do #################################\n",
    "# Hint: plt.imshow(data['data'][i].reshape(8,8), cmap=plt.cm.gray_r)\n",
    "\n",
    "fig, axes = plt.subplots(2,5, figsize=(12,5))\n",
    "num = 0\n",
    "for i in range(2):\n",
    "    for j in range(5):\n",
    "        ax = axes[i][j]\n",
    "        ax.imshow(data['data'][num].reshape(8,8), cmap=plt.cm.gray_r)\n",
    "        ax.set_title(\"label:\"+str(num))\n",
    "        num += 1\n",
    "        \n",
    "plt.tight_layout()\n",
    "############################################################"
   ]
  },
  {
   "cell_type": "code",
   "execution_count": 4,
   "metadata": {
    "id": "5aeX7JqhuTpD"
   },
   "outputs": [
    {
     "name": "stdout",
     "output_type": "stream",
     "text": [
      "(20, 64)\n",
      "(1777, 64)\n"
     ]
    }
   ],
   "source": [
    "#############################################################\n",
    "# 1st Preprocessing\n",
    "# Use the first 20 samples in each clss as test data\n",
    "# Use the others as training data\n",
    "#############################################################\n",
    "\n",
    "#################### To Do #################################\n",
    "test_data = data['data'][:20]\n",
    "train_data = data['data'][20:]\n",
    "############################################################\n",
    "\n",
    "print(test_data.shape)\n",
    "print(train_data.shape)"
   ]
  },
  {
   "cell_type": "code",
   "execution_count": 15,
   "metadata": {
    "id": "Ie567PVduTpD"
   },
   "outputs": [
    {
     "name": "stdout",
     "output_type": "stream",
     "text": [
      "(360, 64)\n",
      "(360,)\n",
      "(20, 64)\n",
      "(340, 64)\n",
      "(20,)\n",
      "(340,)\n"
     ]
    }
   ],
   "source": [
    "#############################################################\n",
    "# 2nd Preprocessing\n",
    "# Let's use only 2 and 3 for binary classification\n",
    "#############################################################\n",
    "\n",
    "data23 = data['data'][(data['target']==2)|(data['target']==3)]\n",
    "target23 = data['target'][(data['target']==2)|(data['target']==3)]\n",
    "print(data23.shape)\n",
    "print(target23.shape)\n",
    "\n",
    "#################### To Do #################################\n",
    "test_data23 = data23[:20]\n",
    "train_data23 = data23[20:]\n",
    "\n",
    "test_target23 = target23[:20]\n",
    "train_target23 = target23[20:]\n",
    "############################################################\n",
    "\n",
    "print(test_data23.shape)\n",
    "print(train_data23.shape)\n",
    "\n",
    "print(test_target23.shape)\n",
    "print(train_target23.shape)"
   ]
  },
  {
   "cell_type": "markdown",
   "metadata": {
    "id": "DOtAaDjbuTpD"
   },
   "source": [
    "## 2. Logistic regression & neural network models in scikit-learn\n",
    "\n",
    "For full documentations refer to the following links: <br>\n",
    "Logistic Regression: http://scikit-learn.org/stable/modules/generated/sklearn.linear_model.LogisticRegression.html <br>\n",
    "Neural network: http://scikit-learn.org/stable/modules/generated/sklearn.neural_network.MLPClassifier.html#sklearn.neural_network.MLPClassifier"
   ]
  },
  {
   "cell_type": "code",
   "execution_count": 12,
   "metadata": {
    "id": "6Ci9vgU5uTpE"
   },
   "outputs": [],
   "source": [
    "from sklearn.linear_model import LogisticRegression\n",
    "from sklearn.neural_network import MLPClassifier\n",
    "\n",
    "LR = LogisticRegression(max_iter=1000, solver='sag')\n",
    "NN = MLPClassifier(hidden_layer_sizes=(10), activation='relu', learning_rate_init=0.01, max_iter=1000)"
   ]
  },
  {
   "cell_type": "markdown",
   "metadata": {
    "id": "KmBMZFuKuTpE"
   },
   "source": [
    "## 3. Model training & prediction & evaluation"
   ]
  },
  {
   "cell_type": "code",
   "execution_count": 17,
   "metadata": {
    "id": "Etwr4biEuTpE"
   },
   "outputs": [
    {
     "name": "stdout",
     "output_type": "stream",
     "text": [
      "test_target     : [2 3 2 3 2 3 3 2 2 2 2 3 3 3 3 2 2 3 2 3]\n",
      "test_prediction : [2 3 2 3 2 3 3 2 2 2 2 3 3 3 3 2 2 3 2 3]\n",
      "train_acc : 0.9911764705882353\n",
      "test_acc  : 1.0\n"
     ]
    },
    {
     "name": "stderr",
     "output_type": "stream",
     "text": [
      "/opt/anaconda3/lib/python3.8/site-packages/sklearn/linear_model/_sag.py:328: ConvergenceWarning: The max_iter was reached which means the coef_ did not converge\n",
      "  warnings.warn(\"The max_iter was reached which means \"\n"
     ]
    }
   ],
   "source": [
    "from sklearn.metrics import accuracy_score\n",
    "\n",
    "#############################################################\n",
    "# Logistic regression model\n",
    "#############################################################\n",
    "# Training\n",
    "LR = LogisticRegression(max_iter=1, solver='sag')\n",
    "LR.fit(train_data23, train_target23)\n",
    "\n",
    "# Prediction\n",
    "train_predict23 = LR.predict(train_data23)\n",
    "test_predict23 = LR.predict(test_data23)\n",
    "print(\"test_target     :\", test_target23)\n",
    "print(\"test_prediction :\", test_predict23)\n",
    "\n",
    "#################### To Do #################################\n",
    "train_acc23 = accuracy_score(train_target23, train_predict23)\n",
    "test_acc23 = accuracy_score(test_target23, test_predict23)\n",
    "############################################################\n",
    "\n",
    "print(\"train_acc :\", train_acc23)\n",
    "print(\"test_acc  :\", test_acc23)"
   ]
  },
  {
   "cell_type": "code",
   "execution_count": 18,
   "metadata": {
    "id": "a6DMzuxRuTpF"
   },
   "outputs": [
    {
     "name": "stdout",
     "output_type": "stream",
     "text": [
      "1.0 1.0\n"
     ]
    }
   ],
   "source": [
    "#############################################################\n",
    "# Neural network model\n",
    "#############################################################\n",
    "\n",
    "#################### To Do #################################\n",
    "NN.fit(train_data23, train_target23)\n",
    "\n",
    "train_pred = NN.predict(train_data23)\n",
    "test_pred = NN.predict(test_data23)\n",
    "\n",
    "train_acc = accuracy_score(train_target23, train_pred)\n",
    "test_acc = accuracy_score(test_target23, test_pred)\n",
    "\n",
    "print(train_acc, test_acc)\n",
    "############################################################\n"
   ]
  },
  {
   "cell_type": "markdown",
   "metadata": {
    "id": "WCiuG6zruTpF"
   },
   "source": [
    "## 4. Model save & load"
   ]
  },
  {
   "cell_type": "code",
   "execution_count": 24,
   "metadata": {
    "id": "OGiSsaIKuTpF"
   },
   "outputs": [
    {
     "data": {
      "text/plain": [
       "0.2003338898163606"
      ]
     },
     "execution_count": 24,
     "metadata": {},
     "output_type": "execute_result"
    }
   ],
   "source": [
    "# from sklearn.externals import joblib\n",
    "import joblib\n",
    "import os\n",
    "\n",
    "if not os.path.exists('models'):\n",
    "    os.makedirs('models')\n",
    "    \n",
    "# save\n",
    "joblib.dump(NN, 'models/NN23.joblib') \n",
    "\n",
    "# load\n",
    "NN_load = joblib.load('models/NN23.joblib') \n",
    "\n",
    "#################### To Do #################################\n",
    "# NN_load.score(train_data23, train_target23)\n",
    "NN_load.score(data['data'], data['target'])\n",
    "############################################################"
   ]
  },
  {
   "cell_type": "markdown",
   "metadata": {
    "id": "RMb5E4hMuTpF"
   },
   "source": [
    "## 5. Homework\n",
    "Now it's your job to experiment with models and achieve higher accuracy on the  **<font color=red>on the entire dataset</font>**. <br>\n",
    "Try different hyperparameter configurations and save the final model as \"final_model.joblib\" <br>\n",
    "Submit the current **notebook file and the saved final model** on ETL.\n",
    "* Maximum 10 points for >= 97% accuracy on the test set\n",
    "* Maximum 8 points for >= 96% accuracy on the test set\n",
    "* Maximum 6 points for >= 95% accuracy on the test set\n",
    "* Maximum 4 points for >= 94% accuracy on the test set"
   ]
  },
  {
   "cell_type": "code",
   "execution_count": 49,
   "metadata": {},
   "outputs": [],
   "source": [
    "import numpy as np\n",
    "import pandas as pd\n",
    "import matplotlib.pyplot as plt\n",
    "\n",
    "pd.set_option('display.max_columns', None)"
   ]
  },
  {
   "cell_type": "markdown",
   "metadata": {},
   "source": [
    "### 1) load data\n",
    "\n",
    "```\n",
    "df = pd.DataFrame(X, columns = digits.feature_names)\n",
    "df['target'] = y\n",
    "df = df.astype('int')\n",
    "df\n",
    "```"
   ]
  },
  {
   "cell_type": "code",
   "execution_count": 40,
   "metadata": {},
   "outputs": [
    {
     "name": "stdout",
     "output_type": "stream",
     "text": [
      "(1797, 64) (1797,)\n"
     ]
    }
   ],
   "source": [
    "from sklearn.datasets import load_digits\n",
    "\n",
    "digits = load_digits()\n",
    "X = digits.data\n",
    "y = digits.target\n",
    "print(X.shape, y.shape)"
   ]
  },
  {
   "cell_type": "markdown",
   "metadata": {},
   "source": [
    "### 2) split train-test datasets"
   ]
  },
  {
   "cell_type": "code",
   "execution_count": 42,
   "metadata": {},
   "outputs": [
    {
     "name": "stdout",
     "output_type": "stream",
     "text": [
      "(1697, 64) (100, 64)\n",
      "(array([0, 1, 2, 3, 4, 5, 6, 7, 8, 9]), array([167, 170, 167, 171, 173, 173, 170, 169, 166, 171])) (array([0, 1, 2, 3, 4, 5, 6, 7, 8, 9]), array([11, 12, 10, 12,  8,  9, 11, 10,  8,  9]))\n"
     ]
    }
   ],
   "source": [
    "X_test = X[:100]\n",
    "y_test = y[:100]\n",
    "\n",
    "X_train = X[100:]\n",
    "y_train = y[100:]\n",
    "\n",
    "print(X_train.shape, X_test.shape)\n",
    "print(np.unique(y_train, return_counts=True), np.unique(y_test, return_counts=True))"
   ]
  },
  {
   "cell_type": "markdown",
   "metadata": {},
   "source": [
    "### 3) fit model "
   ]
  },
  {
   "cell_type": "code",
   "execution_count": 83,
   "metadata": {},
   "outputs": [
    {
     "name": "stdout",
     "output_type": "stream",
     "text": [
      "0.88\n",
      "0.88\n"
     ]
    }
   ],
   "source": [
    "NN = MLPClassifier(hidden_layer_sizes=(20,20,20,10), activation='relu', learning_rate_init=0.01, max_iter=1000)\n",
    "NN.fit(X_train, y_train)\n",
    "y_pred = NN.predict(X_test)\n",
    "\n",
    "print(NN.score(X_test, y_test))\n",
    "print(accuracy_score(y_test, y_pred))"
   ]
  },
  {
   "cell_type": "code",
   "execution_count": 55,
   "metadata": {
    "id": "0NA25EGYuTpG"
   },
   "outputs": [
    {
     "name": "stdout",
     "output_type": "stream",
     "text": [
      "{'activation': 'relu', 'alpha': 0.01, 'early_stopping': True, 'hidden_layer_sizes': 20, 'learning_rate': 'constant', 'learning_rate_init': 0.01, 'max_iter': 1000, 'solver': 'adam', 'warm_start': False}\n",
      "2.288106918334961\n"
     ]
    }
   ],
   "source": [
    "#############################################################\n",
    "# Try different hyperparameters\n",
    "# Final model training\n",
    "#############################################################\n",
    "\n",
    "#################### To Do #################################\n",
    "from sklearn.neural_network import MLPClassifier\n",
    "from sklearn.model_selection import GridSearchCV\n",
    "import time\n",
    "\n",
    "start = time.time()  # 시작 시간 저장\n",
    "\n",
    "clf = MLPClassifier()\n",
    "gs = GridSearchCV(clf, param_grid={'hidden_layer_sizes': [10,20],\n",
    "              'activation': ['relu'],\n",
    "              'solver': ['adam'],\n",
    "              'learning_rate': ['constant'],\n",
    "              'learning_rate_init': [0.01],\n",
    "              'alpha': [0.01],\n",
    "              'max_iter': [1000],\n",
    "              'early_stopping': [True],\n",
    "              'warm_start': [False]})\n",
    "\n",
    "gs.fit(X_train, y_train)\n",
    "print(gs.best_params_)\n",
    "print(time.time()-start)\n",
    "############################################################"
   ]
  },
  {
   "cell_type": "code",
   "execution_count": null,
   "metadata": {
    "id": "rQud1OhYuTpG"
   },
   "outputs": [],
   "source": [
    "#############################################################\n",
    "# Final model test\n",
    "# Load the final model and obatin the test accuracy\n",
    "#############################################################\n",
    "\n",
    "#################### To Do #################################\n",
    "\n",
    "############################################################"
   ]
  },
  {
   "cell_type": "markdown",
   "metadata": {
    "id": "H-8CmzNhuTpG"
   },
   "source": [
    "\n",
    "### Describe what you did here\n",
    "In this cell you should also write an explanation of what you did, any additional features that you implemented, and any visualizations or graphs that you make in the process of training and evaluating your model.\n",
    "* Maximum 10 points"
   ]
  },
  {
   "cell_type": "markdown",
   "metadata": {
    "id": "a0NbdXqzx47b"
   },
   "source": [
    "작성자 학번, 성함 (**반드시 작성해주세요**)\n",
    "\n",
    "학번: \n",
    "\n",
    "이름: "
   ]
  },
  {
   "cell_type": "markdown",
   "metadata": {
    "id": "6R7BMd5YuTpG"
   },
   "source": [
    "_Tell us here_"
   ]
  }
 ],
 "metadata": {
  "colab": {
   "collapsed_sections": [
    "KubnO2egumeN",
    "6jCc3nd2uTpB",
    "DOtAaDjbuTpD",
    "KmBMZFuKuTpE",
    "WCiuG6zruTpF"
   ],
   "name": "Logistic_Regression_and_Neural_Network_with_Scikit-Learn_Distribution.ipynb",
   "provenance": []
  },
  "kernelspec": {
   "display_name": "Python 3",
   "language": "python",
   "name": "python3"
  },
  "language_info": {
   "codemirror_mode": {
    "name": "ipython",
    "version": 3
   },
   "file_extension": ".py",
   "mimetype": "text/x-python",
   "name": "python",
   "nbconvert_exporter": "python",
   "pygments_lexer": "ipython3",
   "version": "3.8.2"
  }
 },
 "nbformat": 4,
 "nbformat_minor": 1
}
