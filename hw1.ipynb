{
 "cells": [
  {
   "cell_type": "code",
   "execution_count": 11,
   "metadata": {},
   "outputs": [],
   "source": [
    "import numpy as np"
   ]
  },
  {
   "cell_type": "code",
   "execution_count": 87,
   "metadata": {},
   "outputs": [
    {
     "data": {
      "text/plain": [
       "array([[ 2.,  1.,  1.],\n",
       "       [ 4., -6.,  0.],\n",
       "       [-2.,  7.,  2.]])"
      ]
     },
     "execution_count": 87,
     "metadata": {},
     "output_type": "execute_result"
    }
   ],
   "source": [
    "A = np.array([[2, 1, 1],\n",
    "            [4, -6, 0],\n",
    "            [-2, 7, 2]], dtype=np.float)\n",
    "A"
   ]
  },
  {
   "cell_type": "markdown",
   "metadata": {},
   "source": [
    "#### Gaussian Elimation without Pivoting"
   ]
  },
  {
   "cell_type": "code",
   "execution_count": 75,
   "metadata": {},
   "outputs": [
    {
     "name": "stdout",
     "output_type": "stream",
     "text": [
      "[[ 2.  1.  1.]\n",
      " [ 4. -6.  0.]\n",
      " [-2.  7.  2.]]\n",
      "[[ 1.  0.  0.]\n",
      " [ 2.  1.  0.]\n",
      " [-1. -1.  1.]]\n",
      "[[ 2.  1.  1.]\n",
      " [ 0. -8. -2.]\n",
      " [ 0.  0.  1.]]\n"
     ]
    }
   ],
   "source": [
    "def slu(A):\n",
    "    m, n = A.shape\n",
    "\n",
    "    for k in range(m-1):\n",
    "        A[k+1:, k] = A[k+1:, k]/A[k, k]\n",
    "        A[k+1:, k+1:] = A[k+1:, k+1:] - np.outer(A[k+1:, k],A[k, k+1:])\n",
    "\n",
    "    L = np.identity(m) + np.tril(A, -1)\n",
    "    U = np.triu(A)\n",
    "    return L, U\n",
    "\n",
    "L, U = slu(A.copy())\n",
    "print(A)\n",
    "print(L)\n",
    "print(U)"
   ]
  },
  {
   "cell_type": "markdown",
   "metadata": {},
   "source": [
    "## 1)  Algorithm 1.2. \n",
    "- Implement Gaussian Elimination with Pivoting  \n",
    "- Test it with built-in Python code `scipy.linalg.lu`"
   ]
  },
  {
   "cell_type": "code",
   "execution_count": 40,
   "metadata": {},
   "outputs": [
    {
     "name": "stdout",
     "output_type": "stream",
     "text": [
      "======== Algorithm 1.2 ========\n",
      "[[0. 1. 0.]\n",
      " [0. 0. 1.]\n",
      " [1. 0. 0.]]\n",
      "[[ 1.          0.          0.        ]\n",
      " [-0.25        1.          0.        ]\n",
      " [ 0.25        0.33333333  1.        ]]\n",
      "[[ 4.         -3.          1.        ]\n",
      " [ 0.          5.25        6.25      ]\n",
      " [ 0.          0.         -0.33333333]]\n",
      "\n",
      "===== Built-in Function lu =====\n",
      "[[ 1.  1.  2.]\n",
      " [ 4. -3.  1.]\n",
      " [-1.  6.  6.]]\n",
      "[[0. 0. 1.]\n",
      " [1. 0. 0.]\n",
      " [0. 1. 0.]]\n",
      "[[ 1.          0.          0.        ]\n",
      " [-0.25        1.          0.        ]\n",
      " [ 0.25        0.33333333  1.        ]]\n",
      "[[ 4.         -3.          1.        ]\n",
      " [ 0.          5.25        6.25      ]\n",
      " [ 0.          0.         -0.33333333]]\n"
     ]
    }
   ],
   "source": [
    "from scipy.linalg import lu\n",
    "\n",
    "A = np.array([[1, 1, 2],\n",
    "         [4, -3, 1],\n",
    "        [-1, 6,6]], dtype=np.float)\n",
    "\n",
    "def plu(A):\n",
    "    m, n = A.shape\n",
    "    P = np.identity(m)\n",
    "\n",
    "    for k in range(m-1):\n",
    "        maxv = np.max(abs(A[k:, k]))\n",
    "        r = np.argmax(abs(A[k:, k]))\n",
    "\n",
    "        q = r + k\n",
    "        P[[k,q],:] = P[[q,k],:]\n",
    "        A[[k,q],:] = A[[q,k],:]\n",
    "\n",
    "        if A[k,k] != 0:\n",
    "            A[k+1:, k] = A[k+1:, k]/A[k, k]\n",
    "            A[k+1:, k+1:] = A[k+1:, k+1:] - np.outer(A[k+1:, k],A[k, k+1:])\n",
    "\n",
    "    L = np.identity(m) + np.tril(A, -1)\n",
    "    U = np.triu(A)\n",
    "    return P, L, U\n",
    "\n",
    "\n",
    "P,L,U = plu(A.copy())\n",
    "print(\"======== Algorithm 1.2 ========\")\n",
    "print(P)\n",
    "print(L)\n",
    "print(U)\n",
    "print()\n",
    "\n",
    "print(\"===== Built-in Function lu =====\")\n",
    "P, L, U = lu(A.copy())\n",
    "print(A)\n",
    "print(P)\n",
    "print(L)\n",
    "print(U)"
   ]
  },
  {
   "cell_type": "markdown",
   "metadata": {},
   "source": [
    "## 2) Algorithm 1.3"
   ]
  },
  {
   "cell_type": "code",
   "execution_count": 88,
   "metadata": {},
   "outputs": [
    {
     "data": {
      "text/plain": [
       "array([  5., -12.,   2.])"
      ]
     },
     "execution_count": 88,
     "metadata": {},
     "output_type": "execute_result"
    }
   ],
   "source": [
    "b = np.array([5, -12, 2], dtype=np.float)\n",
    "b"
   ]
  },
  {
   "cell_type": "code",
   "execution_count": 79,
   "metadata": {},
   "outputs": [
    {
     "data": {
      "text/plain": [
       "array([  6.75,   6.5 , -15.  ])"
      ]
     },
     "execution_count": 79,
     "metadata": {},
     "output_type": "execute_result"
    }
   ],
   "source": [
    "def plusol(A, b):\n",
    "    P, L, U = lu(A)\n",
    "    m, n = A.shape\n",
    "    y = np.zeros((m,1))\n",
    "    c = np.dot(P, b)\n",
    "    \n",
    "    for j in range(m):\n",
    "        y[j] = (c[j] - np.dot(L[j, :j+1],y[:j+1]))\n",
    "    \n",
    "    x = np.zeros((n,1))\n",
    "    for j in range(n-1, -1, -1):\n",
    "        x[j] = (y[j] - np.dot(U[j, j:], x[j:]))/U[j,j]\n",
    "    \n",
    "    return x.reshape(-1)\n",
    "    \n",
    "x = plusol(A.copy(), b.copy())    \n",
    "x"
   ]
  },
  {
   "cell_type": "markdown",
   "metadata": {},
   "source": [
    "## 3) Algorithm 1.4"
   ]
  },
  {
   "cell_type": "code",
   "execution_count": 80,
   "metadata": {},
   "outputs": [
    {
     "data": {
      "text/plain": [
       "-16.0"
      ]
     },
     "execution_count": 80,
     "metadata": {},
     "output_type": "execute_result"
    }
   ],
   "source": [
    "from numpy.linalg import det\n",
    "\n",
    "def determ(A):\n",
    "    P, L, U = lu(A)\n",
    "    d = det(P) * np.prod(np.diag(U))\n",
    "    return d\n",
    "\n",
    "determ(A.copy())"
   ]
  },
  {
   "cell_type": "markdown",
   "metadata": {},
   "source": [
    "## 4) Algorithm 1.6"
   ]
  },
  {
   "cell_type": "code",
   "execution_count": 81,
   "metadata": {},
   "outputs": [
    {
     "data": {
      "text/plain": [
       "array([  6.75,   6.5 , -15.  ])"
      ]
     },
     "execution_count": 81,
     "metadata": {},
     "output_type": "execute_result"
    }
   ],
   "source": [
    "from numpy.linalg import det\n",
    "\n",
    "def cramer(A, b):\n",
    "    m, n = np.shape(A)\n",
    "    for j in range(n):\n",
    "        B = A.copy()\n",
    "        B[:,j] = b\n",
    "        x[j] = det(B)/det(A)\n",
    "    return x\n",
    "\n",
    "cramer(A.copy(), b.copy())"
   ]
  },
  {
   "cell_type": "markdown",
   "metadata": {},
   "source": [
    "## 5) Algorithm 2.1"
   ]
  },
  {
   "cell_type": "code",
   "execution_count": 89,
   "metadata": {},
   "outputs": [
    {
     "data": {
      "text/plain": [
       "array([[  6.75],\n",
       "       [  6.5 ],\n",
       "       [-15.  ]])"
      ]
     },
     "execution_count": 89,
     "metadata": {},
     "output_type": "execute_result"
    }
   ],
   "source": [
    "from sympy import *\n",
    "\n",
    "def partic_sol(A, b):\n",
    "    m, n = np.shape(A)\n",
    "    mat = np.concatenate((A, b.reshape(-1,1)), axis=1)\n",
    "    M = Matrix(mat)\n",
    "    R, pivcol = M.rref()\n",
    "\n",
    "    R = np.array(R)\n",
    "    pivcol = np.array(pivcol)\n",
    "\n",
    "    r = len(pivcol)\n",
    "    if max(pivcol) == n+1 :\n",
    "        x = []\n",
    "    else :\n",
    "        x = np.zeros((n,1))\n",
    "        d = R[:, n]\n",
    "        x[pivcol,0] = d[:r]\n",
    "        \n",
    "    return x\n",
    "    \n",
    "\n",
    "partic_sol(A.copy(), b.copy())"
   ]
  },
  {
   "cell_type": "code",
   "execution_count": 99,
   "metadata": {},
   "outputs": [
    {
     "data": {
      "image/png": "[encoded data removed]",
      "text/plain": [
       "<Figure size 432x288 with 1 Axes>"
      ]
     },
     "metadata": {
      "needs_background": "light"
     },
     "output_type": "display_data"
    }
   ],
   "source": [
    "import matplotlib.pyplot as plt\n",
    "\n",
    "x0 = np.array([1,3], dtype=np.float) # random\n",
    "A1 = np.array([[0,0],\n",
    "             [0, 0.27]], dtype=np.float)\n",
    "d1 = np.array([0.5, 0], dtype=np.float)\n",
    "\n",
    "plt.figure()\n",
    "for k in range(10):\n",
    "    x1 = np.dot(A1, x0) + d1\n",
    "    plt.plot(x1[0], x1[1], 'ro')\n",
    "    x0 = x1\n"
   ]
  },
  {
   "cell_type": "code",
   "execution_count": 107,
   "metadata": {},
   "outputs": [
    {
     "name": "stdout",
     "output_type": "stream",
     "text": [
      "(4, 2, 2) (4, 2, 1)\n"
     ]
    }
   ],
   "source": [
    "# set the params\n",
    "\n",
    "A_all = np.array([[[0,0],\n",
    "               [0,0.27]],\n",
    "              [[-0.139, 0.263],\n",
    "              [0.246, 0.224]],\n",
    "              [[0.17, -0.215],\n",
    "              [0.222, 0.176]],\n",
    "              [[0.781, 0.034],\n",
    "              [-0.032, 0.739]]])\n",
    "\n",
    "\n",
    "d_all = np.array([[[0.5],\n",
    "             [0]],\n",
    "             [[0.57],\n",
    "             [-0.036]],\n",
    "             [[0.408],\n",
    "             [0.0893]],\n",
    "             [[0.1075],\n",
    "             [0.27]]])\n",
    "\n",
    "print(A.shape, d.shape)"
   ]
  },
  {
   "cell_type": "code",
   "execution_count": 141,
   "metadata": {},
   "outputs": [
    {
     "name": "stdout",
     "output_type": "stream",
     "text": [
      "(2,)\n",
      "0\n",
      "(2,)\n",
      "(2, 2)\n",
      "1\n",
      "(2, 2)\n",
      "(2, 2)\n",
      "2\n",
      "(2, 2)\n",
      "(2, 2)\n",
      "3\n",
      "(2, 2)\n",
      "(2, 2)\n",
      "4\n",
      "(2, 2)\n",
      "(2, 2)\n",
      "5\n",
      "(2, 2)\n",
      "(2, 2)\n",
      "6\n",
      "(2, 2)\n",
      "(2, 2)\n",
      "7\n",
      "(2, 2)\n",
      "(2, 2)\n",
      "8\n",
      "(2, 2)\n",
      "(2, 2)\n",
      "9\n",
      "(2, 2)\n",
      "(2, 2)\n",
      "10\n",
      "(2, 2)\n",
      "(2, 2)\n",
      "11\n",
      "(2, 2)\n",
      "(2, 2)\n",
      "12\n",
      "(2, 2)\n",
      "(2, 2)\n",
      "13\n",
      "(2, 2)\n",
      "(2, 2)\n",
      "14\n",
      "(2, 2)\n",
      "(2, 2)\n",
      "15\n",
      "(2, 2)\n",
      "(2, 2)\n",
      "16\n",
      "(2, 2)\n",
      "(2, 2)\n",
      "17\n",
      "(2, 2)\n",
      "(2, 2)\n",
      "18\n",
      "(2, 2)\n",
      "(2, 2)\n",
      "19\n",
      "(2, 2)\n",
      "(2, 2)\n",
      "20\n",
      "(2, 2)\n",
      "(2, 2)\n",
      "21\n",
      "(2, 2)\n",
      "(2, 2)\n",
      "22\n",
      "(2, 2)\n",
      "(2, 2)\n",
      "23\n",
      "(2, 2)\n",
      "(2, 2)\n",
      "24\n",
      "(2, 2)\n",
      "(2, 2)\n",
      "25\n",
      "(2, 2)\n",
      "(2, 2)\n",
      "26\n",
      "(2, 2)\n",
      "(2, 2)\n",
      "27\n",
      "(2, 2)\n",
      "(2, 2)\n",
      "28\n",
      "(2, 2)\n",
      "(2, 2)\n",
      "29\n",
      "(2, 2)\n",
      "(2, 2)\n",
      "30\n",
      "(2, 2)\n",
      "(2, 2)\n",
      "31\n",
      "(2, 2)\n",
      "(2, 2)\n",
      "32\n",
      "(2, 2)\n",
      "(2, 2)\n",
      "33\n",
      "(2, 2)\n",
      "(2, 2)\n",
      "34\n",
      "(2, 2)\n",
      "(2, 2)\n",
      "35\n",
      "(2, 2)\n",
      "(2, 2)\n",
      "36\n",
      "(2, 2)\n",
      "(2, 2)\n",
      "37\n",
      "(2, 2)\n",
      "(2, 2)\n",
      "38\n",
      "(2, 2)\n",
      "(2, 2)\n",
      "39\n",
      "(2, 2)\n",
      "(2, 2)\n",
      "40\n",
      "(2, 2)\n",
      "(2, 2)\n",
      "41\n",
      "(2, 2)\n",
      "(2, 2)\n",
      "42\n",
      "(2, 2)\n",
      "(2, 2)\n",
      "43\n",
      "(2, 2)\n",
      "(2, 2)\n",
      "44\n",
      "(2, 2)\n",
      "(2, 2)\n",
      "45\n",
      "(2, 2)\n",
      "(2, 2)\n",
      "46\n",
      "(2, 2)\n",
      "(2, 2)\n",
      "47\n",
      "(2, 2)\n",
      "(2, 2)\n",
      "48\n",
      "(2, 2)\n",
      "(2, 2)\n",
      "49\n",
      "(2, 2)\n",
      "(2, 2)\n",
      "50\n",
      "(2, 2)\n",
      "(2, 2)\n",
      "51\n",
      "(2, 2)\n",
      "(2, 2)\n",
      "52\n",
      "(2, 2)\n",
      "(2, 2)\n",
      "53\n",
      "(2, 2)\n",
      "(2, 2)\n",
      "54\n",
      "(2, 2)\n",
      "(2, 2)\n",
      "55\n",
      "(2, 2)\n",
      "(2, 2)\n",
      "56\n",
      "(2, 2)\n",
      "(2, 2)\n",
      "57\n",
      "(2, 2)\n",
      "(2, 2)\n",
      "58\n",
      "(2, 2)\n",
      "(2, 2)\n",
      "59\n",
      "(2, 2)\n",
      "(2, 2)\n",
      "60\n",
      "(2, 2)\n",
      "(2, 2)\n",
      "61\n",
      "(2, 2)\n",
      "(2, 2)\n",
      "62\n",
      "(2, 2)\n",
      "(2, 2)\n",
      "63\n",
      "(2, 2)\n",
      "(2, 2)\n",
      "64\n",
      "(2, 2)\n",
      "(2, 2)\n",
      "65\n",
      "(2, 2)\n",
      "(2, 2)\n",
      "66\n",
      "(2, 2)\n",
      "(2, 2)\n",
      "67\n",
      "(2, 2)\n",
      "(2, 2)\n",
      "68\n",
      "(2, 2)\n",
      "(2, 2)\n",
      "69\n",
      "(2, 2)\n",
      "(2, 2)\n",
      "70\n",
      "(2, 2)\n",
      "(2, 2)\n",
      "71\n",
      "(2, 2)\n",
      "(2, 2)\n",
      "72\n",
      "(2, 2)\n",
      "(2, 2)\n",
      "73\n",
      "(2, 2)\n",
      "(2, 2)\n",
      "74\n",
      "(2, 2)\n",
      "(2, 2)\n",
      "75\n",
      "(2, 2)\n",
      "(2, 2)\n",
      "76\n",
      "(2, 2)\n",
      "(2, 2)\n",
      "77\n",
      "(2, 2)\n",
      "(2, 2)\n",
      "78\n",
      "(2, 2)\n",
      "(2, 2)\n",
      "79\n",
      "(2, 2)\n",
      "(2, 2)\n",
      "80\n",
      "(2, 2)\n",
      "(2, 2)\n",
      "81\n",
      "(2, 2)\n",
      "(2, 2)\n",
      "82\n",
      "(2, 2)\n",
      "(2, 2)\n",
      "83\n",
      "(2, 2)\n",
      "(2, 2)\n",
      "84\n",
      "(2, 2)\n",
      "(2, 2)\n",
      "85\n",
      "(2, 2)\n",
      "(2, 2)\n",
      "86\n",
      "(2, 2)\n",
      "(2, 2)\n",
      "87\n",
      "(2, 2)\n",
      "(2, 2)\n",
      "88\n",
      "(2, 2)\n",
      "(2, 2)\n",
      "89\n",
      "(2, 2)\n",
      "(2, 2)\n",
      "90\n",
      "(2, 2)\n",
      "(2, 2)\n",
      "91\n",
      "(2, 2)\n",
      "(2, 2)\n",
      "92\n",
      "(2, 2)\n",
      "(2, 2)\n",
      "93\n",
      "(2, 2)\n",
      "(2, 2)\n",
      "94\n",
      "(2, 2)\n",
      "(2, 2)\n",
      "95\n",
      "(2, 2)\n",
      "(2, 2)\n",
      "96\n",
      "(2, 2)\n",
      "(2, 2)\n",
      "97\n",
      "(2, 2)\n",
      "(2, 2)\n",
      "98\n",
      "(2, 2)\n",
      "(2, 2)\n",
      "99\n",
      "(2, 2)\n",
      "(2, 2)\n"
     ]
    },
    {
     "data": {
      "text/plain": [
       "<Figure size 432x288 with 0 Axes>"
      ]
     },
     "metadata": {},
     "output_type": "display_data"
    }
   ],
   "source": [
    "\n",
    "plt.figure()\n",
    "x0 = np.random.rand(2)\n",
    "print(x0.shape)\n",
    "for i in range(100):\n",
    "    print(i)\n",
    "    sk = np.random.choice(4, 1, p=[0.02, 0.15, 0.13, 0.7])\n",
    "    \n",
    "    A = A_all[sk].reshape(2,2)\n",
    "    d = d_all[sk].reshape(2,1)\n",
    "    x1 = np.dot(A, x0) + d\n",
    "    print(np.dot(A, x0).shape)\n",
    "    print(x1.shape)\n",
    "    x0 = x1"
   ]
  },
  {
   "cell_type": "code",
   "execution_count": 123,
   "metadata": {},
   "outputs": [
    {
     "name": "stdout",
     "output_type": "stream",
     "text": [
      "(1, 2, 2)\n"
     ]
    },
    {
     "data": {
      "text/plain": [
       "array([[[0.37717859, 0.70654745],\n",
       "        [0.27782263, 0.56354507]]])"
      ]
     },
     "execution_count": 123,
     "metadata": {},
     "output_type": "execute_result"
    }
   ],
   "source": [
    "print(x1.shape)\n",
    "x1"
   ]
  },
  {
   "cell_type": "code",
   "execution_count": 150,
   "metadata": {},
   "outputs": [
    {
     "name": "stdout",
     "output_type": "stream",
     "text": [
      "[[ 0.17  -0.215]\n",
      " [ 0.222  0.176]]\n",
      "[0.2729186 0.9986577]\n"
     ]
    },
    {
     "data": {
      "text/plain": [
       "array([[ 0.23968476,  0.64435168],\n",
       "       [-0.07901524,  0.32565168]])"
      ]
     },
     "execution_count": 150,
     "metadata": {},
     "output_type": "execute_result"
    }
   ],
   "source": [
    "x0 = np.random.rand(2)\n",
    "x0.shape\n",
    "print(A)\n",
    "print(x0)\n",
    "print(np.dot(A, x0).shape)\n",
    "print(np.dot(A, x0))\n",
    "\n",
    "print(np.dot(A, x0) + d)"
   ]
  },
  {
   "cell_type": "code",
   "execution_count": null,
   "metadata": {},
   "outputs": [],
   "source": []
  }
 ],
 "metadata": {
  "kernelspec": {
   "display_name": "Python 3",
   "language": "python",
   "name": "python3"
  },
  "language_info": {
   "codemirror_mode": {
    "name": "ipython",
    "version": 3
   },
   "file_extension": ".py",
   "mimetype": "text/x-python",
   "name": "python",
   "nbconvert_exporter": "python",
   "pygments_lexer": "ipython3",
   "version": "3.8.2"
  }
 },
 "nbformat": 4,
 "nbformat_minor": 4
}
