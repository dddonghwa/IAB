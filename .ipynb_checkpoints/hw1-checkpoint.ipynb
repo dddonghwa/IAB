{
 "cells": [
  {
   "cell_type": "code",
   "execution_count": 24,
   "metadata": {},
   "outputs": [],
   "source": [
    "import numpy as np\n",
    "import matplotlib.pyplot as plt\n",
    "import warnings\n",
    "warnings.filterwarnings('ignore')"
   ]
  },
  {
   "cell_type": "code",
   "execution_count": 14,
   "metadata": {},
   "outputs": [
    {
     "name": "stdout",
     "output_type": "stream",
     "text": [
      "Example\n",
      "A : \n",
      " [[ 2.  1.  1.]\n",
      " [ 4. -6.  0.]\n",
      " [-2.  7.  2.]]\n",
      "b : \n",
      " [  5. -12.   2.]\n"
     ]
    }
   ],
   "source": [
    "A = np.array([[2, 1, 1],\n",
    "            [4, -6, 0],\n",
    "            [-2, 7, 2]], dtype=np.float)\n",
    "\n",
    "b = np.array([5, -12, 2], dtype=np.float)\n",
    "\n",
    "print(\"Example\")\n",
    "print(\"A : \\n\", A)\n",
    "print(\"b : \\n\", b)"
   ]
  },
  {
   "cell_type": "markdown",
   "metadata": {},
   "source": [
    "#### Gaussian Elimation without Pivoting"
   ]
  },
  {
   "cell_type": "code",
   "execution_count": 15,
   "metadata": {},
   "outputs": [
    {
     "name": "stdout",
     "output_type": "stream",
     "text": [
      "[[ 2.  1.  1.]\n",
      " [ 4. -6.  0.]\n",
      " [-2.  7.  2.]]\n",
      "[[ 1.  0.  0.]\n",
      " [ 2.  1.  0.]\n",
      " [-1. -1.  1.]]\n",
      "[[ 2.  1.  1.]\n",
      " [ 0. -8. -2.]\n",
      " [ 0.  0.  1.]]\n"
     ]
    }
   ],
   "source": [
    "def slu(A):\n",
    "    m, n = A.shape\n",
    "\n",
    "    for k in range(m-1):\n",
    "        A[k+1:, k] = A[k+1:, k]/A[k, k]\n",
    "        A[k+1:, k+1:] = A[k+1:, k+1:] - np.outer(A[k+1:, k],A[k, k+1:])\n",
    "\n",
    "    L = np.identity(m) + np.tril(A, -1)\n",
    "    U = np.triu(A)\n",
    "    return L, U\n",
    "\n",
    "L, U = slu(A.copy())\n",
    "print(A)\n",
    "print(L)\n",
    "print(U)"
   ]
  },
  {
   "cell_type": "markdown",
   "metadata": {},
   "source": [
    "## 1)  Algorithm 1.2. \n",
    "- Implement Algorithm 1.2 Gaussian Elimination with Pivoting  \n",
    "- Test it with built-in Python code `scipy.linalg.lu`"
   ]
  },
  {
   "cell_type": "code",
   "execution_count": 16,
   "metadata": {},
   "outputs": [
    {
     "name": "stdout",
     "output_type": "stream",
     "text": [
      "======== Algorithm 1.2 ========\n",
      "[[0. 1. 0.]\n",
      " [1. 0. 0.]\n",
      " [0. 0. 1.]]\n",
      "[[ 1.   0.   0. ]\n",
      " [ 0.5  1.   0. ]\n",
      " [-0.5  1.   1. ]]\n",
      "[[ 4. -6.  0.]\n",
      " [ 0.  4.  1.]\n",
      " [ 0.  0.  1.]]\n",
      "\n",
      "===== Built-in Function lu =====\n",
      "[[ 2.  1.  1.]\n",
      " [ 4. -6.  0.]\n",
      " [-2.  7.  2.]]\n",
      "[[0. 1. 0.]\n",
      " [1. 0. 0.]\n",
      " [0. 0. 1.]]\n",
      "[[ 1.   0.   0. ]\n",
      " [ 0.5  1.   0. ]\n",
      " [-0.5  1.   1. ]]\n",
      "[[ 4. -6.  0.]\n",
      " [ 0.  4.  1.]\n",
      " [ 0.  0.  1.]]\n"
     ]
    }
   ],
   "source": [
    "from scipy.linalg import lu\n",
    "\n",
    "\n",
    "def plu(A):\n",
    "    m, n = A.shape\n",
    "    P = np.identity(m)\n",
    "\n",
    "    for k in range(m-1):\n",
    "        maxv = np.max(abs(A[k:, k]))\n",
    "        r = np.argmax(abs(A[k:, k]))\n",
    "\n",
    "        q = r + k\n",
    "        P[[k,q],:] = P[[q,k],:]\n",
    "        A[[k,q],:] = A[[q,k],:]\n",
    "\n",
    "        if A[k,k] != 0:\n",
    "            A[k+1:, k] = A[k+1:, k]/A[k, k]\n",
    "            A[k+1:, k+1:] = A[k+1:, k+1:] - np.outer(A[k+1:, k],A[k, k+1:])\n",
    "\n",
    "    L = np.identity(m) + np.tril(A, -1)\n",
    "    U = np.triu(A)\n",
    "    return P, L, U\n",
    "\n",
    "\n",
    "P,L,U = plu(A.copy())\n",
    "print(\"======== Algorithm 1.2 ========\")\n",
    "print(P)\n",
    "print(L)\n",
    "print(U)\n",
    "print()\n",
    "\n",
    "print(\"===== Built-in Function lu =====\")\n",
    "P, L, U = lu(A.copy())\n",
    "print(A)\n",
    "print(P)\n",
    "print(L)\n",
    "print(U)"
   ]
  },
  {
   "cell_type": "markdown",
   "metadata": {},
   "source": [
    "## 2) Algorithm 1.3\n",
    "- Implement Algorithm 1.3 which solves Ax = b\n",
    "- Test it with built-in Python code `scipy.linalg.solve`"
   ]
  },
  {
   "cell_type": "code",
   "execution_count": 21,
   "metadata": {},
   "outputs": [
    {
     "name": "stdout",
     "output_type": "stream",
     "text": [
      "Algorithm 1.3 :\t [  6.75   6.5  -15.  ]\n",
      "Built-in Function : [  6.75   6.5  -15.  ]\n"
     ]
    }
   ],
   "source": [
    "from scipy.linalg import solve\n",
    "\n",
    "def plusol(A, b):\n",
    "    P, L, U = lu(A)\n",
    "    m, n = A.shape\n",
    "    y = np.zeros((m,1))\n",
    "    c = np.dot(P, b)\n",
    "    \n",
    "    for j in range(m):\n",
    "        y[j] = (c[j] - np.dot(L[j, :j+1],y[:j+1]))\n",
    "    \n",
    "    x = np.zeros((n,1))\n",
    "    for j in range(n-1, -1, -1):\n",
    "        x[j] = (y[j] - np.dot(U[j, j:], x[j:]))/U[j,j]\n",
    "    \n",
    "    return x.reshape(-1)\n",
    "    \n",
    "x = plusol(A.copy(), b.copy())    \n",
    "print(\"Algorithm 1.3 :\\t\", x)\n",
    "\n",
    "x = solve(A.copy(),b.copy())\n",
    "print(\"Built-in Function :\", x)"
   ]
  },
  {
   "cell_type": "markdown",
   "metadata": {},
   "source": [
    "## 3) Algorithm 1.4\n",
    "- Implement Algorithm 1.4 which returns determinant of a matrix\n",
    "- test it with a built-in Python code `numpy.linalg.det`"
   ]
  },
  {
   "cell_type": "code",
   "execution_count": 22,
   "metadata": {},
   "outputs": [
    {
     "name": "stdout",
     "output_type": "stream",
     "text": [
      "Algorithm 1.4 : -16.0\n",
      "Built in Function : -15.999999999999998\n"
     ]
    }
   ],
   "source": [
    "from numpy.linalg import det\n",
    "\n",
    "def determ(A):\n",
    "    P, L, U = lu(A)\n",
    "    d = det(P) * np.prod(np.diag(U))\n",
    "    return d\n",
    "\n",
    "print(\"Algorithm 1.4 :\", determ(A.copy()))\n",
    "print(\"Built in Function :\", det(A.copy()))"
   ]
  },
  {
   "cell_type": "markdown",
   "metadata": {},
   "source": [
    "## 4) Algorithm 1.6\n",
    "\n",
    "- Implement Algorithm 1.6 which returns scramer \n",
    "- test it with a built-in Python code `numpy.linalg.det`"
   ]
  },
  {
   "cell_type": "code",
   "execution_count": 81,
   "metadata": {},
   "outputs": [
    {
     "data": {
      "text/plain": [
       "array([  6.75,   6.5 , -15.  ])"
      ]
     },
     "execution_count": 81,
     "metadata": {},
     "output_type": "execute_result"
    }
   ],
   "source": [
    "from numpy.linalg import det\n",
    "\n",
    "def cramer(A, b):\n",
    "    m, n = np.shape(A)\n",
    "    for j in range(n):\n",
    "        B = A.copy()\n",
    "        B[:,j] = b\n",
    "        x[j] = det(B)/det(A)\n",
    "    return x\n",
    "\n",
    "cramer(A.copy(), b.copy())"
   ]
  },
  {
   "cell_type": "markdown",
   "metadata": {},
   "source": [
    "## 5) Algorithm 2.1"
   ]
  },
  {
   "cell_type": "code",
   "execution_count": 89,
   "metadata": {},
   "outputs": [
    {
     "data": {
      "text/plain": [
       "array([[  6.75],\n",
       "       [  6.5 ],\n",
       "       [-15.  ]])"
      ]
     },
     "execution_count": 89,
     "metadata": {},
     "output_type": "execute_result"
    }
   ],
   "source": [
    "from sympy import *\n",
    "\n",
    "def partic_sol(A, b):\n",
    "    m, n = np.shape(A)\n",
    "    mat = np.concatenate((A, b.reshape(-1,1)), axis=1)\n",
    "    M = Matrix(mat)\n",
    "    R, pivcol = M.rref()\n",
    "\n",
    "    R = np.array(R)\n",
    "    pivcol = np.array(pivcol)\n",
    "\n",
    "    r = len(pivcol)\n",
    "    if max(pivcol) == n+1 :\n",
    "        x = []\n",
    "    else :\n",
    "        x = np.zeros((n,1))\n",
    "        d = R[:, n]\n",
    "        x[pivcol,0] = d[:r]\n",
    "        \n",
    "    return x\n",
    "    \n",
    "\n",
    "partic_sol(A.copy(), b.copy())"
   ]
  },
  {
   "cell_type": "code",
   "execution_count": 99,
   "metadata": {},
   "outputs": [
    {
     "data": {
      "image/png": "[encoded data removed]",
      "text/plain": [
       "<Figure size 432x288 with 1 Axes>"
      ]
     },
     "metadata": {
      "needs_background": "light"
     },
     "output_type": "display_data"
    }
   ],
   "source": [
    "import matplotlib.pyplot as plt\n",
    "\n",
    "x0 = np.array([1,3], dtype=np.float) # random\n",
    "A1 = np.array([[0,0],\n",
    "             [0, 0.27]], dtype=np.float)\n",
    "d1 = np.array([0.5, 0], dtype=np.float)\n",
    "\n",
    "plt.figure()\n",
    "for k in range(10):\n",
    "    x1 = np.dot(A1, x0) + d1\n",
    "    plt.plot(x1[0], x1[1], 'ro')\n",
    "    x0 = x1\n"
   ]
  },
  {
   "cell_type": "code",
   "execution_count": 27,
   "metadata": {},
   "outputs": [
    {
     "name": "stdout",
     "output_type": "stream",
     "text": [
      "(4, 2, 2) (4, 2, 1)\n"
     ]
    }
   ],
   "source": [
    "# set the params\n",
    "\n",
    "A_all = np.array([[[0,0],\n",
    "               [0,0.27]],\n",
    "              [[-0.139, 0.263],\n",
    "              [0.246, 0.224]],\n",
    "              [[0.17, -0.215],\n",
    "              [0.222, 0.176]],\n",
    "              [[0.781, 0.034],\n",
    "              [-0.032, 0.739]]])\n",
    "\n",
    "\n",
    "d_all = np.array([[[0.5],\n",
    "             [0]],\n",
    "             [[0.57],\n",
    "             [-0.036]],\n",
    "             [[0.408],\n",
    "             [0.0893]],\n",
    "             [[0.1075],\n",
    "             [0.27]]])\n",
    "\n",
    "print(A_all.shape, d_all.shape)"
   ]
  },
  {
   "cell_type": "code",
   "execution_count": 57,
   "metadata": {},
   "outputs": [
    {
     "data": {
      "text/plain": [
       "<matplotlib.legend.Legend at 0x2062c9be670>"
      ]
     },
     "execution_count": 57,
     "metadata": {},
     "output_type": "execute_result"
    },
    {
     "data": {
      "image/png": "[encoded data removed]",
      "text/plain": [
       "<Figure size 432x288 with 1 Axes>"
      ]
     },
     "metadata": {
      "needs_background": "light"
     },
     "output_type": "display_data"
    }
   ],
   "source": [
    "# simulation\n",
    "\n",
    "clist = ['r','g','b','y']\n",
    "x0 = np.random.rand(2).reshape(2,1)\n",
    "\n",
    "plt.figure()\n",
    "plt.plot(x0[0], x0[1],'kx',linewidth=2, label='start')\n",
    "for i in range(1000):\n",
    "    sk = np.random.choice(4, 1, p=[0.02, 0.15, 0.13, 0.7])\n",
    "    A = A_all[sk].reshape(2,2)\n",
    "    d = d_all[sk].reshape(2,1)\n",
    "    x1 = np.dot(A, x0) + d\n",
    "    plt.plot(x1[0,0], x1[1,0], clist[sk[0]]+'o', alpha=0.1)\n",
    "    x0 = x1\n",
    "\n",
    "plt.legend()"
   ]
  },
  {
   "cell_type": "code",
   "execution_count": null,
   "metadata": {},
   "outputs": [],
   "source": []
  }
 ],
 "metadata": {
  "kernelspec": {
   "display_name": "Python 3",
   "language": "python",
   "name": "python3"
  },
  "language_info": {
   "codemirror_mode": {
    "name": "ipython",
    "version": 3
   },
   "file_extension": ".py",
   "mimetype": "text/x-python",
   "name": "python",
   "nbconvert_exporter": "python",
   "pygments_lexer": "ipython3",
   "version": "3.8.8"
  }
 },
 "nbformat": 4,
 "nbformat_minor": 4
}
